{
 "cells": [
  {
   "cell_type": "code",
   "execution_count": 1,
   "id": "71c9bbb2",
   "metadata": {
    "_cell_guid": "b1076dfc-b9ad-4769-8c92-a6c4dae69d19",
    "_uuid": "8f2839f25d086af736a60e9eeb907d3b93b6e0e5",
    "execution": {
     "iopub.execute_input": "2023-02-05T04:22:44.907752Z",
     "iopub.status.busy": "2023-02-05T04:22:44.906859Z",
     "iopub.status.idle": "2023-02-05T04:22:50.106778Z",
     "shell.execute_reply": "2023-02-05T04:22:50.105821Z"
    },
    "papermill": {
     "duration": 5.216145,
     "end_time": "2023-02-05T04:22:50.109279",
     "exception": false,
     "start_time": "2023-02-05T04:22:44.893134",
     "status": "completed"
    },
    "tags": []
   },
   "outputs": [],
   "source": [
    "import tensorflow as tf\n",
    "import os\n",
    "import numpy as np\n",
    "from tensorflow import keras\n",
    "from tensorflow.keras.layers import Dense,Input,InputLayer,Flatten,Conv2D,MaxPooling2D\n",
    "from tensorflow.keras.models import Model,Sequential\n",
    "from matplotlib import pyplot as plt\n",
    "import matplotlib.image as mpimg\n",
    "%matplotlib inline"
   ]
  },
  {
   "cell_type": "code",
   "execution_count": 2,
   "id": "5f7735d1",
   "metadata": {
    "execution": {
     "iopub.execute_input": "2023-02-05T04:22:50.128065Z",
     "iopub.status.busy": "2023-02-05T04:22:50.127557Z",
     "iopub.status.idle": "2023-02-05T04:22:50.131992Z",
     "shell.execute_reply": "2023-02-05T04:22:50.131011Z"
    },
    "papermill": {
     "duration": 0.016023,
     "end_time": "2023-02-05T04:22:50.133985",
     "exception": false,
     "start_time": "2023-02-05T04:22:50.117962",
     "status": "completed"
    },
    "tags": []
   },
   "outputs": [],
   "source": [
    "import warnings\n",
    "warnings.filterwarnings(\"ignore\")"
   ]
  },
  {
   "cell_type": "code",
   "execution_count": 3,
   "id": "5a40c180",
   "metadata": {
    "execution": {
     "iopub.execute_input": "2023-02-05T04:22:50.150382Z",
     "iopub.status.busy": "2023-02-05T04:22:50.150054Z",
     "iopub.status.idle": "2023-02-05T04:22:50.155607Z",
     "shell.execute_reply": "2023-02-05T04:22:50.154797Z"
    },
    "papermill": {
     "duration": 0.01611,
     "end_time": "2023-02-05T04:22:50.157780",
     "exception": false,
     "start_time": "2023-02-05T04:22:50.141670",
     "status": "completed"
    },
    "tags": []
   },
   "outputs": [],
   "source": [
    " tf.config.threading.set_inter_op_parallelism_threads(32)"
   ]
  },
  {
   "cell_type": "code",
   "execution_count": 4,
   "id": "3c042f31",
   "metadata": {
    "execution": {
     "iopub.execute_input": "2023-02-05T04:22:50.174668Z",
     "iopub.status.busy": "2023-02-05T04:22:50.173962Z",
     "iopub.status.idle": "2023-02-05T04:22:50.323894Z",
     "shell.execute_reply": "2023-02-05T04:22:50.322937Z"
    },
    "papermill": {
     "duration": 0.160982,
     "end_time": "2023-02-05T04:22:50.326465",
     "exception": false,
     "start_time": "2023-02-05T04:22:50.165483",
     "status": "completed"
    },
    "tags": []
   },
   "outputs": [],
   "source": [
    "import cv2 as cv\n",
    "import random"
   ]
  },
  {
   "cell_type": "code",
   "execution_count": 5,
   "id": "afc872e0",
   "metadata": {
    "execution": {
     "iopub.execute_input": "2023-02-05T04:22:50.343941Z",
     "iopub.status.busy": "2023-02-05T04:22:50.342936Z",
     "iopub.status.idle": "2023-02-05T04:23:38.424349Z",
     "shell.execute_reply": "2023-02-05T04:23:38.423410Z"
    },
    "papermill": {
     "duration": 48.092663,
     "end_time": "2023-02-05T04:23:38.426941",
     "exception": false,
     "start_time": "2023-02-05T04:22:50.334278",
     "status": "completed"
    },
    "tags": []
   },
   "outputs": [],
   "source": [
    "def create_dataset(img_folder):\n",
    "    img_data_array=[]\n",
    "    class_name=[]\n",
    "    for dir1 in os.listdir(img_folder):\n",
    "         #print(dir1)\n",
    "        for file in os.listdir(os.path.join(img_folder,dir1)):\n",
    "            img=cv.imread(os.path.join(img_folder,dir1,file),cv.IMREAD_GRAYSCALE)\n",
    "            img=cv.resize(img,(224,224),interpolation=cv.INTER_LANCZOS4)\n",
    "            img=img.astype('float32')\n",
    "            img/=255.0\n",
    "            img_data_array.append(img)\n",
    "            class_name.append(dir1)\n",
    "    return img_data_array,class_name\n",
    "img_data,class_name=create_dataset(r\"/kaggle/input/brain-tumor-mri-dataset/Training\")\n",
    "            "
   ]
  },
  {
   "cell_type": "code",
   "execution_count": 6,
   "id": "c71b2d42",
   "metadata": {
    "execution": {
     "iopub.execute_input": "2023-02-05T04:23:38.446125Z",
     "iopub.status.busy": "2023-02-05T04:23:38.445301Z",
     "iopub.status.idle": "2023-02-05T04:23:38.453195Z",
     "shell.execute_reply": "2023-02-05T04:23:38.452181Z"
    },
    "papermill": {
     "duration": 0.020533,
     "end_time": "2023-02-05T04:23:38.456367",
     "exception": false,
     "start_time": "2023-02-05T04:23:38.435834",
     "status": "completed"
    },
    "tags": []
   },
   "outputs": [
    {
     "data": {
      "text/plain": [
       "5712"
      ]
     },
     "execution_count": 6,
     "metadata": {},
     "output_type": "execute_result"
    }
   ],
   "source": [
    "len(img_data)"
   ]
  },
  {
   "cell_type": "code",
   "execution_count": 7,
   "id": "0c0f0c92",
   "metadata": {
    "execution": {
     "iopub.execute_input": "2023-02-05T04:23:38.472877Z",
     "iopub.status.busy": "2023-02-05T04:23:38.472599Z",
     "iopub.status.idle": "2023-02-05T04:23:48.507868Z",
     "shell.execute_reply": "2023-02-05T04:23:48.506889Z"
    },
    "papermill": {
     "duration": 10.046182,
     "end_time": "2023-02-05T04:23:48.510238",
     "exception": false,
     "start_time": "2023-02-05T04:23:38.464056",
     "status": "completed"
    },
    "tags": []
   },
   "outputs": [],
   "source": [
    "def create_dataset(img_folder):\n",
    "    img_data_array=[]\n",
    "    class_name=[]\n",
    "    for dir1 in os.listdir(img_folder):\n",
    "         #print(dir1)\n",
    "        for file in os.listdir(os.path.join(img_folder,dir1)):\n",
    "            img=cv.imread(os.path.join(img_folder,dir1,file),cv.IMREAD_GRAYSCALE)\n",
    "            img=cv.resize(img,(224,224),interpolation=cv.INTER_LANCZOS4)\n",
    "            img=img.astype('float32')\n",
    "            img/=255.0\n",
    "            img_data_array.append(img)\n",
    "            class_name.append(dir1)\n",
    "    return img_data_array,class_name\n",
    "img_data1,class_name1=create_dataset(r\"/kaggle/input/brain-tumor-mri-dataset/Testing\")\n",
    "            "
   ]
  },
  {
   "cell_type": "code",
   "execution_count": 8,
   "id": "b00d0a8f",
   "metadata": {
    "execution": {
     "iopub.execute_input": "2023-02-05T04:23:48.527486Z",
     "iopub.status.busy": "2023-02-05T04:23:48.527170Z",
     "iopub.status.idle": "2023-02-05T04:23:48.533963Z",
     "shell.execute_reply": "2023-02-05T04:23:48.533053Z"
    },
    "papermill": {
     "duration": 0.017465,
     "end_time": "2023-02-05T04:23:48.536036",
     "exception": false,
     "start_time": "2023-02-05T04:23:48.518571",
     "status": "completed"
    },
    "tags": []
   },
   "outputs": [
    {
     "data": {
      "text/plain": [
       "1311"
      ]
     },
     "execution_count": 8,
     "metadata": {},
     "output_type": "execute_result"
    }
   ],
   "source": [
    "len(class_name1)"
   ]
  },
  {
   "cell_type": "code",
   "execution_count": 9,
   "id": "3ea2a6f6",
   "metadata": {
    "execution": {
     "iopub.execute_input": "2023-02-05T04:23:48.552645Z",
     "iopub.status.busy": "2023-02-05T04:23:48.552385Z",
     "iopub.status.idle": "2023-02-05T04:23:48.557550Z",
     "shell.execute_reply": "2023-02-05T04:23:48.556729Z"
    },
    "papermill": {
     "duration": 0.015662,
     "end_time": "2023-02-05T04:23:48.559359",
     "exception": false,
     "start_time": "2023-02-05T04:23:48.543697",
     "status": "completed"
    },
    "tags": []
   },
   "outputs": [],
   "source": [
    "img_data.extend(img_data1)"
   ]
  },
  {
   "cell_type": "code",
   "execution_count": 10,
   "id": "5d4b9a76",
   "metadata": {
    "execution": {
     "iopub.execute_input": "2023-02-05T04:23:48.576329Z",
     "iopub.status.busy": "2023-02-05T04:23:48.575566Z",
     "iopub.status.idle": "2023-02-05T04:23:48.581176Z",
     "shell.execute_reply": "2023-02-05T04:23:48.580270Z"
    },
    "papermill": {
     "duration": 0.016045,
     "end_time": "2023-02-05T04:23:48.583204",
     "exception": false,
     "start_time": "2023-02-05T04:23:48.567159",
     "status": "completed"
    },
    "tags": []
   },
   "outputs": [
    {
     "data": {
      "text/plain": [
       "7023"
      ]
     },
     "execution_count": 10,
     "metadata": {},
     "output_type": "execute_result"
    }
   ],
   "source": [
    "len(img_data)"
   ]
  },
  {
   "cell_type": "code",
   "execution_count": 11,
   "id": "bd6b2b5c",
   "metadata": {
    "execution": {
     "iopub.execute_input": "2023-02-05T04:23:48.599788Z",
     "iopub.status.busy": "2023-02-05T04:23:48.599531Z",
     "iopub.status.idle": "2023-02-05T04:23:48.603640Z",
     "shell.execute_reply": "2023-02-05T04:23:48.602644Z"
    },
    "papermill": {
     "duration": 0.014905,
     "end_time": "2023-02-05T04:23:48.605894",
     "exception": false,
     "start_time": "2023-02-05T04:23:48.590989",
     "status": "completed"
    },
    "tags": []
   },
   "outputs": [],
   "source": [
    "class_name.extend(class_name1)"
   ]
  },
  {
   "cell_type": "code",
   "execution_count": 12,
   "id": "aea7cdba",
   "metadata": {
    "execution": {
     "iopub.execute_input": "2023-02-05T04:23:48.622441Z",
     "iopub.status.busy": "2023-02-05T04:23:48.622166Z",
     "iopub.status.idle": "2023-02-05T04:23:48.628004Z",
     "shell.execute_reply": "2023-02-05T04:23:48.627077Z"
    },
    "papermill": {
     "duration": 0.016309,
     "end_time": "2023-02-05T04:23:48.630004",
     "exception": false,
     "start_time": "2023-02-05T04:23:48.613695",
     "status": "completed"
    },
    "tags": []
   },
   "outputs": [
    {
     "data": {
      "text/plain": [
       "{'glioma', 'meningioma', 'notumor', 'pituitary'}"
      ]
     },
     "execution_count": 12,
     "metadata": {},
     "output_type": "execute_result"
    }
   ],
   "source": [
    "set(class_name)"
   ]
  },
  {
   "cell_type": "code",
   "execution_count": 13,
   "id": "ab84c64f",
   "metadata": {
    "execution": {
     "iopub.execute_input": "2023-02-05T04:23:48.647163Z",
     "iopub.status.busy": "2023-02-05T04:23:48.646914Z",
     "iopub.status.idle": "2023-02-05T04:23:48.655399Z",
     "shell.execute_reply": "2023-02-05T04:23:48.654443Z"
    },
    "papermill": {
     "duration": 0.018992,
     "end_time": "2023-02-05T04:23:48.657385",
     "exception": false,
     "start_time": "2023-02-05T04:23:48.638393",
     "status": "completed"
    },
    "tags": []
   },
   "outputs": [
    {
     "data": {
      "text/plain": [
       "{'glioma': 0, 'meningioma': 1, 'notumor': 2, 'pituitary': 3}"
      ]
     },
     "execution_count": 13,
     "metadata": {},
     "output_type": "execute_result"
    }
   ],
   "source": [
    "import numpy as np\n",
    "target_dict={k:v for v,k in enumerate(np.unique(class_name))}\n",
    "target_dict"
   ]
  },
  {
   "cell_type": "code",
   "execution_count": 14,
   "id": "ca7ee7ff",
   "metadata": {
    "execution": {
     "iopub.execute_input": "2023-02-05T04:23:48.674807Z",
     "iopub.status.busy": "2023-02-05T04:23:48.674558Z",
     "iopub.status.idle": "2023-02-05T04:23:48.679321Z",
     "shell.execute_reply": "2023-02-05T04:23:48.678446Z"
    },
    "papermill": {
     "duration": 0.015661,
     "end_time": "2023-02-05T04:23:48.681299",
     "exception": false,
     "start_time": "2023-02-05T04:23:48.665638",
     "status": "completed"
    },
    "tags": []
   },
   "outputs": [],
   "source": [
    "target_val=[target_dict[class_name[i]] for i in range(len(class_name))]"
   ]
  },
  {
   "cell_type": "code",
   "execution_count": 15,
   "id": "fdca775b",
   "metadata": {
    "execution": {
     "iopub.execute_input": "2023-02-05T04:23:48.698577Z",
     "iopub.status.busy": "2023-02-05T04:23:48.698324Z",
     "iopub.status.idle": "2023-02-05T04:23:48.706297Z",
     "shell.execute_reply": "2023-02-05T04:23:48.705313Z"
    },
    "papermill": {
     "duration": 0.018983,
     "end_time": "2023-02-05T04:23:48.708320",
     "exception": false,
     "start_time": "2023-02-05T04:23:48.689337",
     "status": "completed"
    },
    "tags": []
   },
   "outputs": [
    {
     "data": {
      "text/plain": [
       "7023"
      ]
     },
     "execution_count": 15,
     "metadata": {},
     "output_type": "execute_result"
    }
   ],
   "source": [
    "import numpy as np\n",
    "from tensorflow.keras.utils import to_categorical\n",
    "\n",
    "# sample class vector\n",
    "target_val= np.array(target_val)\n",
    "\n",
    "# convert to binary class matrix\n",
    "target_val= to_categorical(target_val, num_classes=4)\n",
    "len(target_val)"
   ]
  },
  {
   "cell_type": "code",
   "execution_count": 16,
   "id": "67be3c24",
   "metadata": {
    "execution": {
     "iopub.execute_input": "2023-02-05T04:23:48.725360Z",
     "iopub.status.busy": "2023-02-05T04:23:48.725089Z",
     "iopub.status.idle": "2023-02-05T04:24:20.453430Z",
     "shell.execute_reply": "2023-02-05T04:24:20.452442Z"
    },
    "papermill": {
     "duration": 31.739718,
     "end_time": "2023-02-05T04:24:20.456046",
     "exception": false,
     "start_time": "2023-02-05T04:23:48.716328",
     "status": "completed"
    },
    "tags": []
   },
   "outputs": [
    {
     "name": "stderr",
     "output_type": "stream",
     "text": [
      "2023-02-05 04:23:48.792208: I tensorflow/stream_executor/cuda/cuda_gpu_executor.cc:937] successful NUMA node read from SysFS had negative value (-1), but there must be at least one NUMA node, so returning NUMA node zero\n",
      "2023-02-05 04:23:48.897872: I tensorflow/stream_executor/cuda/cuda_gpu_executor.cc:937] successful NUMA node read from SysFS had negative value (-1), but there must be at least one NUMA node, so returning NUMA node zero\n",
      "2023-02-05 04:23:48.899085: I tensorflow/stream_executor/cuda/cuda_gpu_executor.cc:937] successful NUMA node read from SysFS had negative value (-1), but there must be at least one NUMA node, so returning NUMA node zero\n",
      "2023-02-05 04:23:48.906887: I tensorflow/core/platform/cpu_feature_guard.cc:142] This TensorFlow binary is optimized with oneAPI Deep Neural Network Library (oneDNN) to use the following CPU instructions in performance-critical operations:  AVX2 AVX512F FMA\n",
      "To enable them in other operations, rebuild TensorFlow with the appropriate compiler flags.\n",
      "2023-02-05 04:23:48.907292: I tensorflow/stream_executor/cuda/cuda_gpu_executor.cc:937] successful NUMA node read from SysFS had negative value (-1), but there must be at least one NUMA node, so returning NUMA node zero\n",
      "2023-02-05 04:23:48.908491: I tensorflow/stream_executor/cuda/cuda_gpu_executor.cc:937] successful NUMA node read from SysFS had negative value (-1), but there must be at least one NUMA node, so returning NUMA node zero\n",
      "2023-02-05 04:23:48.909417: I tensorflow/stream_executor/cuda/cuda_gpu_executor.cc:937] successful NUMA node read from SysFS had negative value (-1), but there must be at least one NUMA node, so returning NUMA node zero\n",
      "2023-02-05 04:23:51.044061: I tensorflow/stream_executor/cuda/cuda_gpu_executor.cc:937] successful NUMA node read from SysFS had negative value (-1), but there must be at least one NUMA node, so returning NUMA node zero\n",
      "2023-02-05 04:23:51.044929: I tensorflow/stream_executor/cuda/cuda_gpu_executor.cc:937] successful NUMA node read from SysFS had negative value (-1), but there must be at least one NUMA node, so returning NUMA node zero\n",
      "2023-02-05 04:23:51.045678: I tensorflow/stream_executor/cuda/cuda_gpu_executor.cc:937] successful NUMA node read from SysFS had negative value (-1), but there must be at least one NUMA node, so returning NUMA node zero\n",
      "2023-02-05 04:23:51.046298: I tensorflow/core/common_runtime/gpu/gpu_device.cc:1510] Created device /job:localhost/replica:0/task:0/device:GPU:0 with 15401 MB memory:  -> device: 0, name: Tesla P100-PCIE-16GB, pci bus id: 0000:00:04.0, compute capability: 6.0\n",
      "2023-02-05 04:23:51.055468: W tensorflow/core/framework/cpu_allocator_impl.cc:80] Allocation of 1409544192 exceeds 10% of free system memory.\n",
      "2023-02-05 04:24:18.764319: W tensorflow/core/framework/cpu_allocator_impl.cc:80] Allocation of 1409544192 exceeds 10% of free system memory.\n"
     ]
    }
   ],
   "source": [
    "X_train=np.array(tf.expand_dims(img_data,axis=-1), np.float32)"
   ]
  },
  {
   "cell_type": "code",
   "execution_count": 17,
   "id": "84b4a1cf",
   "metadata": {
    "execution": {
     "iopub.execute_input": "2023-02-05T04:24:20.474556Z",
     "iopub.status.busy": "2023-02-05T04:24:20.474218Z",
     "iopub.status.idle": "2023-02-05T04:24:20.480305Z",
     "shell.execute_reply": "2023-02-05T04:24:20.479307Z"
    },
    "papermill": {
     "duration": 0.018759,
     "end_time": "2023-02-05T04:24:20.483398",
     "exception": false,
     "start_time": "2023-02-05T04:24:20.464639",
     "status": "completed"
    },
    "tags": []
   },
   "outputs": [
    {
     "data": {
      "text/plain": [
       "(7023, 224, 224, 1)"
      ]
     },
     "execution_count": 17,
     "metadata": {},
     "output_type": "execute_result"
    }
   ],
   "source": [
    "X_train.shape"
   ]
  },
  {
   "cell_type": "code",
   "execution_count": 18,
   "id": "0fa9f1a9",
   "metadata": {
    "execution": {
     "iopub.execute_input": "2023-02-05T04:24:20.501364Z",
     "iopub.status.busy": "2023-02-05T04:24:20.501057Z",
     "iopub.status.idle": "2023-02-05T04:24:20.507632Z",
     "shell.execute_reply": "2023-02-05T04:24:20.506744Z"
    },
    "papermill": {
     "duration": 0.017666,
     "end_time": "2023-02-05T04:24:20.509595",
     "exception": false,
     "start_time": "2023-02-05T04:24:20.491929",
     "status": "completed"
    },
    "tags": []
   },
   "outputs": [
    {
     "data": {
      "text/plain": [
       "(7023, 4)"
      ]
     },
     "execution_count": 18,
     "metadata": {},
     "output_type": "execute_result"
    }
   ],
   "source": [
    "Y_train=np.array(target_val, np.uint32)\n",
    "Y_train.shape"
   ]
  },
  {
   "cell_type": "code",
   "execution_count": 19,
   "id": "e63ded3c",
   "metadata": {
    "execution": {
     "iopub.execute_input": "2023-02-05T04:24:20.528480Z",
     "iopub.status.busy": "2023-02-05T04:24:20.527441Z",
     "iopub.status.idle": "2023-02-05T04:24:20.532092Z",
     "shell.execute_reply": "2023-02-05T04:24:20.531284Z"
    },
    "papermill": {
     "duration": 0.016179,
     "end_time": "2023-02-05T04:24:20.534055",
     "exception": false,
     "start_time": "2023-02-05T04:24:20.517876",
     "status": "completed"
    },
    "tags": []
   },
   "outputs": [],
   "source": [
    "num_classes=4\n",
    "img_rows=224\n",
    "img_cols=224"
   ]
  },
  {
   "cell_type": "code",
   "execution_count": 20,
   "id": "2302f083",
   "metadata": {
    "execution": {
     "iopub.execute_input": "2023-02-05T04:24:20.553174Z",
     "iopub.status.busy": "2023-02-05T04:24:20.551830Z",
     "iopub.status.idle": "2023-02-05T04:24:20.559915Z",
     "shell.execute_reply": "2023-02-05T04:24:20.559093Z"
    },
    "papermill": {
     "duration": 0.019441,
     "end_time": "2023-02-05T04:24:20.561802",
     "exception": false,
     "start_time": "2023-02-05T04:24:20.542361",
     "status": "completed"
    },
    "tags": []
   },
   "outputs": [],
   "source": [
    "opt=tf.keras.optimizers.Adam(learning_rate=0.001)"
   ]
  },
  {
   "cell_type": "code",
   "execution_count": 21,
   "id": "b73b0a60",
   "metadata": {
    "execution": {
     "iopub.execute_input": "2023-02-05T04:24:20.580869Z",
     "iopub.status.busy": "2023-02-05T04:24:20.579502Z",
     "iopub.status.idle": "2023-02-05T04:24:20.584538Z",
     "shell.execute_reply": "2023-02-05T04:24:20.583711Z"
    },
    "papermill": {
     "duration": 0.016398,
     "end_time": "2023-02-05T04:24:20.586684",
     "exception": false,
     "start_time": "2023-02-05T04:24:20.570286",
     "status": "completed"
    },
    "tags": []
   },
   "outputs": [],
   "source": [
    "es=tf.keras.callbacks.EarlyStopping(\n",
    "    monitor=\"val_loss\",\n",
    "    min_delta=0.001,\n",
    "    patience=5,\n",
    "    verbose=1,\n",
    "    mode=\"auto\",\n",
    "    baseline=None,\n",
    "    restore_best_weights=False,\n",
    ")"
   ]
  },
  {
   "cell_type": "code",
   "execution_count": 56,
   "id": "306dd03a",
   "metadata": {
    "execution": {
     "iopub.execute_input": "2023-02-05T04:24:20.604953Z",
     "iopub.status.busy": "2023-02-05T04:24:20.604132Z",
     "iopub.status.idle": "2023-02-05T04:24:21.299758Z",
     "shell.execute_reply": "2023-02-05T04:24:21.298800Z"
    },
    "papermill": {
     "duration": 0.707203,
     "end_time": "2023-02-05T04:24:21.302178",
     "exception": false,
     "start_time": "2023-02-05T04:24:20.594975",
     "status": "completed"
    },
    "tags": []
   },
   "outputs": [],
   "source": [
    "import numpy as np\n",
    "import pandas as pd\n",
    "import os\n",
    "import matplotlib.pyplot as plt\n",
    "import seaborn as sns\n",
    "import cv2\n",
    "import tensorflow as tf\n",
    "from tensorflow import keras\n",
    "from tensorflow.keras.applications.resnet import ResNet50\n",
    "from tensorflow.keras.applications.resnet import decode_predictions\n",
    "from tensorflow.keras.applications.resnet import preprocess_input\n",
    "from tensorflow.keras.utils import to_categorical\n",
    "from tensorflow.keras.models import Model,Sequential,load_model\n",
    "from tensorflow.keras.layers import Input,ZeroPadding2D,Activation,Add\n",
    "from tensorflow.keras.layers import Dense, Dropout, Flatten, Conv2D, MaxPool2D, BatchNormalization, AveragePooling2D, GlobalAveragePooling2D\n",
    "from tensorflow.keras.optimizers import Adam \n",
    "import tensorflow as tf\n",
    "from PIL import Image \n",
    "import matplotlib.pyplot as plt \n",
    "import seaborn as sns\n",
    "import pandas as pd \n",
    "import numpy as np \n",
    "import os \n",
    "from tensorflow.keras.initializers import glorot_uniform"
   ]
  },
  {
   "cell_type": "code",
   "execution_count": 23,
   "id": "31284019",
   "metadata": {
    "execution": {
     "iopub.execute_input": "2023-02-05T04:24:21.321047Z",
     "iopub.status.busy": "2023-02-05T04:24:21.320751Z",
     "iopub.status.idle": "2023-02-05T04:24:23.458881Z",
     "shell.execute_reply": "2023-02-05T04:24:23.457926Z"
    },
    "papermill": {
     "duration": 2.15018,
     "end_time": "2023-02-05T04:24:23.461450",
     "exception": false,
     "start_time": "2023-02-05T04:24:21.311270",
     "status": "completed"
    },
    "tags": []
   },
   "outputs": [],
   "source": [
    "import tensorflow as tf\n",
    "from tensorflow.keras.layers import Input, Conv2D, BatchNormalization, Dense\n",
    "from tensorflow.keras.layers import AvgPool2D, GlobalAveragePooling2D, MaxPool2D\n",
    "from tensorflow.keras.models import Model\n",
    "from tensorflow.keras.layers import ReLU, concatenate\n",
    "import tensorflow.keras.backend as K\n",
    "# Creating Densenet121\n",
    "def densenet(input_shape, n_classes, filters = 32):\n",
    "    \n",
    "    #batch norm + relu + conv\n",
    "    def bn_rl_conv(x,filters,kernel=1,strides=1):\n",
    "        \n",
    "        x = BatchNormalization()(x)\n",
    "        x = ReLU()(x)\n",
    "        x = Conv2D(filters, kernel, strides=strides,padding = 'same')(x)\n",
    "        return x\n",
    "    \n",
    "    def dense_block(x, repetition):\n",
    "        \n",
    "        for _ in range(repetition):\n",
    "            y = bn_rl_conv(x, 4*filters)\n",
    "            y = bn_rl_conv(y, filters, 3)\n",
    "            x = concatenate([y,x])\n",
    "        return x\n",
    "        \n",
    "    def transition_layer(x):\n",
    "        \n",
    "        x = bn_rl_conv(x, K.int_shape(x)[-1] //2 )\n",
    "        x = AvgPool2D(2, strides = 2, padding = 'same')(x)\n",
    "        return x\n",
    "    \n",
    "    input = Input (input_shape)\n",
    "    x = Conv2D(64, 7, strides = 2, padding = 'same')(input)\n",
    "    x = MaxPool2D(3, strides = 2, padding = 'same')(x)\n",
    "    \n",
    "    for repetition in [6,12,24,16]:\n",
    "        \n",
    "        d = dense_block(x, repetition)\n",
    "        x = transition_layer(d)\n",
    "    x = GlobalAveragePooling2D()(d)\n",
    "    x=Dense(2048, activation='relu',name=\"final\")(x)\n",
    "    output = Dense(n_classes, activation = 'softmax')(x)\n",
    "    \n",
    "    model = Model(input, output)\n",
    "    return model\n",
    "input_shape = 224, 224, 1\n",
    "n_classes = 4\n",
    "model = densenet(input_shape,n_classes)\n",
    "# model.summary()"
   ]
  },
  {
   "cell_type": "code",
   "execution_count": 24,
   "id": "3696ebd6",
   "metadata": {
    "execution": {
     "iopub.execute_input": "2023-02-05T04:24:23.481284Z",
     "iopub.status.busy": "2023-02-05T04:24:23.479673Z",
     "iopub.status.idle": "2023-02-05T04:24:23.498546Z",
     "shell.execute_reply": "2023-02-05T04:24:23.497687Z"
    },
    "papermill": {
     "duration": 0.030424,
     "end_time": "2023-02-05T04:24:23.500526",
     "exception": false,
     "start_time": "2023-02-05T04:24:23.470102",
     "status": "completed"
    },
    "tags": []
   },
   "outputs": [],
   "source": [
    "model.compile(loss='categorical_crossentropy', optimizer=opt, metrics=['accuracy'])"
   ]
  },
  {
   "cell_type": "code",
   "execution_count": 25,
   "id": "1bc98cff",
   "metadata": {
    "execution": {
     "iopub.execute_input": "2023-02-05T04:24:23.519550Z",
     "iopub.status.busy": "2023-02-05T04:24:23.518641Z",
     "iopub.status.idle": "2023-02-05T05:00:59.387563Z",
     "shell.execute_reply": "2023-02-05T05:00:59.386541Z"
    },
    "papermill": {
     "duration": 2195.880978,
     "end_time": "2023-02-05T05:00:59.390081",
     "exception": false,
     "start_time": "2023-02-05T04:24:23.509103",
     "status": "completed"
    },
    "tags": []
   },
   "outputs": [
    {
     "name": "stderr",
     "output_type": "stream",
     "text": [
      "2023-02-05 04:24:23.525651: W tensorflow/core/framework/cpu_allocator_impl.cc:80] Allocation of 1127555072 exceeds 10% of free system memory.\n",
      "2023-02-05 04:24:24.773803: W tensorflow/core/framework/cpu_allocator_impl.cc:80] Allocation of 1127555072 exceeds 10% of free system memory.\n",
      "2023-02-05 04:24:25.696887: I tensorflow/compiler/mlir/mlir_graph_optimization_pass.cc:185] None of the MLIR Optimization Passes are enabled (registered 2)\n"
     ]
    },
    {
     "name": "stdout",
     "output_type": "stream",
     "text": [
      "Epoch 1/50\n"
     ]
    },
    {
     "name": "stderr",
     "output_type": "stream",
     "text": [
      "2023-02-05 04:24:38.504822: I tensorflow/stream_executor/cuda/cuda_dnn.cc:369] Loaded cuDNN version 8005\n"
     ]
    },
    {
     "name": "stdout",
     "output_type": "stream",
     "text": [
      "281/281 [==============================] - 64s 160ms/step - loss: 0.8852 - accuracy: 0.6721 - val_loss: 1.9702 - val_accuracy: 0.2612\n",
      "Epoch 2/50\n",
      "281/281 [==============================] - 41s 146ms/step - loss: 0.6527 - accuracy: 0.7529 - val_loss: 0.9078 - val_accuracy: 0.6014\n",
      "Epoch 3/50\n",
      "281/281 [==============================] - 43s 154ms/step - loss: 0.5454 - accuracy: 0.7944 - val_loss: 1.5007 - val_accuracy: 0.5189\n",
      "Epoch 4/50\n",
      "281/281 [==============================] - 41s 146ms/step - loss: 0.5852 - accuracy: 0.7837 - val_loss: 3.5204 - val_accuracy: 0.3509\n",
      "Epoch 5/50\n",
      "281/281 [==============================] - 41s 146ms/step - loss: 0.4788 - accuracy: 0.8259 - val_loss: 2.2486 - val_accuracy: 0.4975\n",
      "Epoch 6/50\n",
      "281/281 [==============================] - 41s 146ms/step - loss: 0.4247 - accuracy: 0.8375 - val_loss: 1.1508 - val_accuracy: 0.6762\n",
      "Epoch 7/50\n",
      "281/281 [==============================] - 41s 146ms/step - loss: 0.3835 - accuracy: 0.8610 - val_loss: 2.4626 - val_accuracy: 0.3630\n",
      "Epoch 8/50\n",
      "281/281 [==============================] - 41s 146ms/step - loss: 0.3580 - accuracy: 0.8777 - val_loss: 0.7873 - val_accuracy: 0.7722\n",
      "Epoch 9/50\n",
      "281/281 [==============================] - 41s 146ms/step - loss: 0.3198 - accuracy: 0.8838 - val_loss: 2.5354 - val_accuracy: 0.6007\n",
      "Epoch 10/50\n",
      "281/281 [==============================] - 41s 145ms/step - loss: 0.2999 - accuracy: 0.8895 - val_loss: 1.5920 - val_accuracy: 0.6683\n",
      "Epoch 11/50\n",
      "281/281 [==============================] - 43s 154ms/step - loss: 0.2974 - accuracy: 0.8950 - val_loss: 0.6063 - val_accuracy: 0.8043\n",
      "Epoch 12/50\n",
      "281/281 [==============================] - 41s 146ms/step - loss: 0.2515 - accuracy: 0.9114 - val_loss: 0.8936 - val_accuracy: 0.7274\n",
      "Epoch 13/50\n",
      "281/281 [==============================] - 43s 154ms/step - loss: 0.2325 - accuracy: 0.9155 - val_loss: 0.9175 - val_accuracy: 0.6769\n",
      "Epoch 14/50\n",
      "281/281 [==============================] - 43s 154ms/step - loss: 0.2103 - accuracy: 0.9233 - val_loss: 2.1236 - val_accuracy: 0.7146\n",
      "Epoch 15/50\n",
      "281/281 [==============================] - 43s 154ms/step - loss: 0.2045 - accuracy: 0.9247 - val_loss: 0.4516 - val_accuracy: 0.8555\n",
      "Epoch 16/50\n",
      "281/281 [==============================] - 41s 146ms/step - loss: 0.1887 - accuracy: 0.9370 - val_loss: 4.2031 - val_accuracy: 0.5879\n",
      "Epoch 17/50\n",
      "281/281 [==============================] - 43s 154ms/step - loss: 0.1752 - accuracy: 0.9407 - val_loss: 0.3661 - val_accuracy: 0.8577\n",
      "Epoch 18/50\n",
      "281/281 [==============================] - 43s 154ms/step - loss: 0.1703 - accuracy: 0.9379 - val_loss: 1.3076 - val_accuracy: 0.6954\n",
      "Epoch 19/50\n",
      "281/281 [==============================] - 43s 154ms/step - loss: 0.1491 - accuracy: 0.9466 - val_loss: 0.6051 - val_accuracy: 0.8057\n",
      "Epoch 20/50\n",
      "281/281 [==============================] - 41s 146ms/step - loss: 0.1593 - accuracy: 0.9448 - val_loss: 1.0876 - val_accuracy: 0.7324\n",
      "Epoch 21/50\n",
      "281/281 [==============================] - 43s 154ms/step - loss: 0.1388 - accuracy: 0.9512 - val_loss: 0.2174 - val_accuracy: 0.9331\n",
      "Epoch 22/50\n",
      "281/281 [==============================] - 43s 154ms/step - loss: 0.1423 - accuracy: 0.9475 - val_loss: 0.2131 - val_accuracy: 0.9288\n",
      "Epoch 23/50\n",
      "281/281 [==============================] - 43s 154ms/step - loss: 0.1140 - accuracy: 0.9589 - val_loss: 0.5221 - val_accuracy: 0.8598\n",
      "Epoch 24/50\n",
      "281/281 [==============================] - 43s 154ms/step - loss: 0.0992 - accuracy: 0.9662 - val_loss: 0.2627 - val_accuracy: 0.9089\n",
      "Epoch 25/50\n",
      "281/281 [==============================] - 43s 154ms/step - loss: 0.1148 - accuracy: 0.9564 - val_loss: 1.2957 - val_accuracy: 0.7295\n",
      "Epoch 26/50\n",
      "281/281 [==============================] - 41s 147ms/step - loss: 0.0967 - accuracy: 0.9680 - val_loss: 0.3493 - val_accuracy: 0.8861\n",
      "Epoch 27/50\n",
      "281/281 [==============================] - 43s 155ms/step - loss: 0.1087 - accuracy: 0.9601 - val_loss: 0.2015 - val_accuracy: 0.9388\n",
      "Epoch 28/50\n",
      "281/281 [==============================] - 41s 146ms/step - loss: 0.0687 - accuracy: 0.9760 - val_loss: 0.2622 - val_accuracy: 0.9246\n",
      "Epoch 29/50\n",
      "281/281 [==============================] - 43s 154ms/step - loss: 0.0999 - accuracy: 0.9642 - val_loss: 3.0170 - val_accuracy: 0.5979\n",
      "Epoch 30/50\n",
      "281/281 [==============================] - 44s 155ms/step - loss: 0.0807 - accuracy: 0.9728 - val_loss: 0.1399 - val_accuracy: 0.9601\n",
      "Epoch 31/50\n",
      "281/281 [==============================] - 41s 147ms/step - loss: 0.0771 - accuracy: 0.9742 - val_loss: 1.0631 - val_accuracy: 0.7907\n",
      "Epoch 32/50\n",
      "281/281 [==============================] - 41s 147ms/step - loss: 0.0690 - accuracy: 0.9776 - val_loss: 0.4437 - val_accuracy: 0.8776\n",
      "Epoch 33/50\n",
      "281/281 [==============================] - 43s 154ms/step - loss: 0.0757 - accuracy: 0.9740 - val_loss: 0.4061 - val_accuracy: 0.8968\n",
      "Epoch 34/50\n",
      "281/281 [==============================] - 43s 155ms/step - loss: 0.0666 - accuracy: 0.9765 - val_loss: 0.1314 - val_accuracy: 0.9495\n",
      "Epoch 35/50\n",
      "281/281 [==============================] - 43s 155ms/step - loss: 0.0653 - accuracy: 0.9806 - val_loss: 0.8750 - val_accuracy: 0.7772\n",
      "Epoch 36/50\n",
      "281/281 [==============================] - 43s 155ms/step - loss: 0.0497 - accuracy: 0.9833 - val_loss: 3.0987 - val_accuracy: 0.6897\n",
      "Epoch 37/50\n",
      "281/281 [==============================] - 41s 147ms/step - loss: 0.0731 - accuracy: 0.9765 - val_loss: 0.6113 - val_accuracy: 0.8619\n",
      "Epoch 38/50\n",
      "281/281 [==============================] - 41s 147ms/step - loss: 0.0625 - accuracy: 0.9767 - val_loss: 0.1196 - val_accuracy: 0.9673\n",
      "Epoch 39/50\n",
      "281/281 [==============================] - 43s 155ms/step - loss: 0.0490 - accuracy: 0.9827 - val_loss: 0.1101 - val_accuracy: 0.9701\n",
      "Epoch 40/50\n",
      "281/281 [==============================] - 43s 155ms/step - loss: 0.0418 - accuracy: 0.9870 - val_loss: 0.3244 - val_accuracy: 0.9117\n",
      "Epoch 41/50\n",
      "281/281 [==============================] - 41s 146ms/step - loss: 0.0536 - accuracy: 0.9811 - val_loss: 0.7793 - val_accuracy: 0.8448\n",
      "Epoch 42/50\n",
      "281/281 [==============================] - 41s 147ms/step - loss: 0.0375 - accuracy: 0.9867 - val_loss: 0.2141 - val_accuracy: 0.9445\n",
      "Epoch 43/50\n",
      "281/281 [==============================] - 41s 147ms/step - loss: 0.0502 - accuracy: 0.9829 - val_loss: 0.1510 - val_accuracy: 0.9552\n",
      "Epoch 44/50\n",
      "281/281 [==============================] - 43s 154ms/step - loss: 0.0397 - accuracy: 0.9874 - val_loss: 0.1758 - val_accuracy: 0.9559\n",
      "Epoch 45/50\n",
      "281/281 [==============================] - 41s 148ms/step - loss: 0.0444 - accuracy: 0.9859 - val_loss: 0.2445 - val_accuracy: 0.9267\n",
      "Epoch 46/50\n",
      "281/281 [==============================] - 43s 155ms/step - loss: 0.0519 - accuracy: 0.9850 - val_loss: 0.1294 - val_accuracy: 0.9694\n",
      "Epoch 47/50\n",
      "281/281 [==============================] - 43s 155ms/step - loss: 0.0587 - accuracy: 0.9806 - val_loss: 0.2184 - val_accuracy: 0.9338\n",
      "Epoch 48/50\n",
      "281/281 [==============================] - 41s 147ms/step - loss: 0.0450 - accuracy: 0.9843 - val_loss: 0.1158 - val_accuracy: 0.9637\n",
      "Epoch 49/50\n",
      "281/281 [==============================] - 41s 147ms/step - loss: 0.0371 - accuracy: 0.9870 - val_loss: 0.2978 - val_accuracy: 0.9039\n",
      "Epoch 50/50\n",
      "281/281 [==============================] - 41s 146ms/step - loss: 0.0456 - accuracy: 0.9865 - val_loss: 0.2530 - val_accuracy: 0.9466\n"
     ]
    }
   ],
   "source": [
    "history=model.fit(X_train,Y_train,batch_size=20,epochs=50,validation_split=0.2)"
   ]
  },
  {
   "cell_type": "code",
   "execution_count": 26,
   "id": "042f4c6c",
   "metadata": {
    "execution": {
     "iopub.execute_input": "2023-02-05T05:01:00.924956Z",
     "iopub.status.busy": "2023-02-05T05:01:00.924621Z",
     "iopub.status.idle": "2023-02-05T05:01:01.151715Z",
     "shell.execute_reply": "2023-02-05T05:01:01.150281Z"
    },
    "papermill": {
     "duration": 0.969747,
     "end_time": "2023-02-05T05:01:01.155199",
     "exception": false,
     "start_time": "2023-02-05T05:01:00.185452",
     "status": "completed"
    },
    "tags": []
   },
   "outputs": [
    {
     "data": {
      "image/png": "[encoded data removed]",
      "text/plain": [
       "<Figure size 360x72 with 1 Axes>"
      ]
     },
     "metadata": {
      "needs_background": "light"
     },
     "output_type": "display_data"
    },
    {
     "data": {
      "image/png": "[encoded data removed]",
      "text/plain": [
       "<Figure size 360x72 with 1 Axes>"
      ]
     },
     "metadata": {
      "needs_background": "light"
     },
     "output_type": "display_data"
    },
    {
     "data": {
      "image/png": "[encoded data removed]",
      "text/plain": [
       "<Figure size 360x72 with 1 Axes>"
      ]
     },
     "metadata": {
      "needs_background": "light"
     },
     "output_type": "display_data"
    }
   ],
   "source": [
    "colors_dark = [\"#1F1F1F\", \"#313131\", '#636363', '#AEAEAE', '#DADADA']\n",
    "colors_red = [\"#331313\", \"#582626\", '#9E1717', '#D35151', '#E9B4B4']\n",
    "colors_green = ['#01411C','#4B6F44','#4F7942','#74C365','#D0F0C0']\n",
    "\n",
    "sns.palplot(colors_dark)\n",
    "sns.palplot(colors_green)\n",
    "sns.palplot(colors_red)"
   ]
  },
  {
   "cell_type": "code",
   "execution_count": 27,
   "id": "92e8fccf",
   "metadata": {
    "execution": {
     "iopub.execute_input": "2023-02-05T05:01:02.787011Z",
     "iopub.status.busy": "2023-02-05T05:01:02.786665Z",
     "iopub.status.idle": "2023-02-05T05:01:03.149055Z",
     "shell.execute_reply": "2023-02-05T05:01:03.148157Z"
    },
    "papermill": {
     "duration": 1.101303,
     "end_time": "2023-02-05T05:01:03.151317",
     "exception": false,
     "start_time": "2023-02-05T05:01:02.050014",
     "status": "completed"
    },
    "tags": []
   },
   "outputs": [
    {
     "data": {
      "image/png": "[encoded data removed]",
      "text/plain": [
       "<Figure size 1008x504 with 2 Axes>"
      ]
     },
     "metadata": {
      "needs_background": "light"
     },
     "output_type": "display_data"
    }
   ],
   "source": [
    "# filterwarnings('ignore')\n",
    "\n",
    "epochs = [i for i in range(50)]\n",
    "fig, ax = plt.subplots(1,2,figsize=(14,7))\n",
    "train_acc = history.history['accuracy']\n",
    "train_loss = history.history['loss']\n",
    "val_acc = history.history['val_accuracy']\n",
    "val_loss = history.history['val_loss']\n",
    "\n",
    "fig.text(s='Epochs vs. Training and Validation Accuracy/Loss',size=18,fontweight='bold',\n",
    "             fontname='monospace',color=colors_dark[1],y=1,x=0.28,alpha=0.8)\n",
    "\n",
    "sns.despine()\n",
    "ax[0].plot(epochs, train_acc, marker='o',markerfacecolor=colors_green[2],color=colors_green[3],\n",
    "           label = 'Training Accuracy')\n",
    "ax[0].plot(epochs, val_acc, marker='o',markerfacecolor=colors_red[2],color=colors_red[3],\n",
    "           label = 'Validation Accuracy')\n",
    "ax[0].legend(frameon=False)\n",
    "ax[0].set_xlabel('Epochs')\n",
    "ax[0].set_ylabel('Accuracy')\n",
    "\n",
    "sns.despine()\n",
    "ax[1].plot(epochs, train_loss, marker='o',markerfacecolor=colors_green[2],color=colors_green[3],\n",
    "           label ='Training Loss')\n",
    "ax[1].plot(epochs, val_loss, marker='o',markerfacecolor=colors_red[2],color=colors_red[3],\n",
    "           label = 'Validation Loss')\n",
    "ax[1].legend(frameon=False)\n",
    "ax[1].set_xlabel('Epochs')\n",
    "ax[1].set_ylabel('Training & Validation Loss')\n",
    "\n",
    "fig.show()"
   ]
  },
  {
   "cell_type": "code",
   "execution_count": 28,
   "id": "cce22877",
   "metadata": {
    "execution": {
     "iopub.execute_input": "2023-02-05T05:01:04.690966Z",
     "iopub.status.busy": "2023-02-05T05:01:04.690165Z",
     "iopub.status.idle": "2023-02-05T05:01:04.717049Z",
     "shell.execute_reply": "2023-02-05T05:01:04.716176Z"
    },
    "papermill": {
     "duration": 0.776721,
     "end_time": "2023-02-05T05:01:04.719015",
     "exception": false,
     "start_time": "2023-02-05T05:01:03.942294",
     "status": "completed"
    },
    "tags": []
   },
   "outputs": [],
   "source": [
    "import keras\n",
    "feature_extractor = keras.Model(\n",
    "    inputs=model.inputs,\n",
    "    outputs=model.get_layer(name=\"final\").output,)"
   ]
  },
  {
   "cell_type": "code",
   "execution_count": 29,
   "id": "51a3fbe0",
   "metadata": {
    "execution": {
     "iopub.execute_input": "2023-02-05T05:01:06.260715Z",
     "iopub.status.busy": "2023-02-05T05:01:06.260366Z",
     "iopub.status.idle": "2023-02-05T06:03:10.045736Z",
     "shell.execute_reply": "2023-02-05T06:03:10.044675Z"
    },
    "papermill": {
     "duration": 3724.531746,
     "end_time": "2023-02-05T06:03:10.048473",
     "exception": false,
     "start_time": "2023-02-05T05:01:05.516727",
     "status": "completed"
    },
    "tags": []
   },
   "outputs": [],
   "source": [
    "f=open(\"feature.csv\",\"w\")\n",
    "for i in range(len(img_data)):\n",
    "    img=img_data[i]\n",
    "    img=np.expand_dims(img,axis=0)\n",
    "    features =list( feature_extractor(img))\n",
    "    for j in list(features[0]):\n",
    "        f.write(str(float(j))+\",\")\n",
    "    f.write(str(target_val[i])+\"\\n\")    \n",
    "f.close()\n",
    "    "
   ]
  },
  {
   "cell_type": "code",
   "execution_count": 30,
   "id": "10cef486",
   "metadata": {
    "execution": {
     "iopub.execute_input": "2023-02-05T06:03:11.592396Z",
     "iopub.status.busy": "2023-02-05T06:03:11.592020Z",
     "iopub.status.idle": "2023-02-05T06:03:13.296458Z",
     "shell.execute_reply": "2023-02-05T06:03:13.295385Z"
    },
    "papermill": {
     "duration": 2.513602,
     "end_time": "2023-02-05T06:03:13.298531",
     "exception": false,
     "start_time": "2023-02-05T06:03:10.784929",
     "status": "completed"
    },
    "tags": []
   },
   "outputs": [
    {
     "data": {
      "text/html": [
       "<div>\n",
       "<style scoped>\n",
       "    .dataframe tbody tr th:only-of-type {\n",
       "        vertical-align: middle;\n",
       "    }\n",
       "\n",
       "    .dataframe tbody tr th {\n",
       "        vertical-align: top;\n",
       "    }\n",
       "\n",
       "    .dataframe thead th {\n",
       "        text-align: right;\n",
       "    }\n",
       "</style>\n",
       "<table border=\"1\" class=\"dataframe\">\n",
       "  <thead>\n",
       "    <tr style=\"text-align: right;\">\n",
       "      <th></th>\n",
       "      <th>0</th>\n",
       "      <th>1</th>\n",
       "      <th>2</th>\n",
       "      <th>3</th>\n",
       "      <th>4</th>\n",
       "      <th>5</th>\n",
       "      <th>6</th>\n",
       "      <th>7</th>\n",
       "      <th>8</th>\n",
       "      <th>9</th>\n",
       "      <th>...</th>\n",
       "      <th>2039</th>\n",
       "      <th>2040</th>\n",
       "      <th>2041</th>\n",
       "      <th>2042</th>\n",
       "      <th>2043</th>\n",
       "      <th>2044</th>\n",
       "      <th>2045</th>\n",
       "      <th>2046</th>\n",
       "      <th>2047</th>\n",
       "      <th>2048</th>\n",
       "    </tr>\n",
       "  </thead>\n",
       "  <tbody>\n",
       "    <tr>\n",
       "      <th>0</th>\n",
       "      <td>0.0</td>\n",
       "      <td>0.0</td>\n",
       "      <td>0.0</td>\n",
       "      <td>0.0</td>\n",
       "      <td>0.0</td>\n",
       "      <td>0.0</td>\n",
       "      <td>0.0</td>\n",
       "      <td>0.0</td>\n",
       "      <td>0.0</td>\n",
       "      <td>0.0</td>\n",
       "      <td>...</td>\n",
       "      <td>0.0</td>\n",
       "      <td>0.0</td>\n",
       "      <td>0.0</td>\n",
       "      <td>0.0</td>\n",
       "      <td>0.0</td>\n",
       "      <td>0.0</td>\n",
       "      <td>0.0</td>\n",
       "      <td>0.0</td>\n",
       "      <td>0.0</td>\n",
       "      <td>[0. 0. 0. 1.]</td>\n",
       "    </tr>\n",
       "    <tr>\n",
       "      <th>1</th>\n",
       "      <td>0.0</td>\n",
       "      <td>0.0</td>\n",
       "      <td>0.0</td>\n",
       "      <td>0.0</td>\n",
       "      <td>0.0</td>\n",
       "      <td>0.0</td>\n",
       "      <td>0.0</td>\n",
       "      <td>0.0</td>\n",
       "      <td>0.0</td>\n",
       "      <td>0.0</td>\n",
       "      <td>...</td>\n",
       "      <td>0.0</td>\n",
       "      <td>0.0</td>\n",
       "      <td>0.0</td>\n",
       "      <td>0.0</td>\n",
       "      <td>0.0</td>\n",
       "      <td>0.0</td>\n",
       "      <td>0.0</td>\n",
       "      <td>0.0</td>\n",
       "      <td>0.0</td>\n",
       "      <td>[0. 0. 0. 1.]</td>\n",
       "    </tr>\n",
       "    <tr>\n",
       "      <th>2</th>\n",
       "      <td>0.0</td>\n",
       "      <td>0.0</td>\n",
       "      <td>0.0</td>\n",
       "      <td>0.0</td>\n",
       "      <td>0.0</td>\n",
       "      <td>0.0</td>\n",
       "      <td>0.0</td>\n",
       "      <td>0.0</td>\n",
       "      <td>0.0</td>\n",
       "      <td>0.0</td>\n",
       "      <td>...</td>\n",
       "      <td>0.0</td>\n",
       "      <td>0.0</td>\n",
       "      <td>0.0</td>\n",
       "      <td>0.0</td>\n",
       "      <td>0.0</td>\n",
       "      <td>0.0</td>\n",
       "      <td>0.0</td>\n",
       "      <td>0.0</td>\n",
       "      <td>0.0</td>\n",
       "      <td>[0. 0. 0. 1.]</td>\n",
       "    </tr>\n",
       "    <tr>\n",
       "      <th>3</th>\n",
       "      <td>0.0</td>\n",
       "      <td>0.0</td>\n",
       "      <td>0.0</td>\n",
       "      <td>0.0</td>\n",
       "      <td>0.0</td>\n",
       "      <td>0.0</td>\n",
       "      <td>0.0</td>\n",
       "      <td>0.0</td>\n",
       "      <td>0.0</td>\n",
       "      <td>0.0</td>\n",
       "      <td>...</td>\n",
       "      <td>0.0</td>\n",
       "      <td>0.0</td>\n",
       "      <td>0.0</td>\n",
       "      <td>0.0</td>\n",
       "      <td>0.0</td>\n",
       "      <td>0.0</td>\n",
       "      <td>0.0</td>\n",
       "      <td>0.0</td>\n",
       "      <td>0.0</td>\n",
       "      <td>[0. 0. 0. 1.]</td>\n",
       "    </tr>\n",
       "    <tr>\n",
       "      <th>4</th>\n",
       "      <td>0.0</td>\n",
       "      <td>0.0</td>\n",
       "      <td>0.0</td>\n",
       "      <td>0.0</td>\n",
       "      <td>0.0</td>\n",
       "      <td>0.0</td>\n",
       "      <td>0.0</td>\n",
       "      <td>0.0</td>\n",
       "      <td>0.0</td>\n",
       "      <td>0.0</td>\n",
       "      <td>...</td>\n",
       "      <td>0.0</td>\n",
       "      <td>0.0</td>\n",
       "      <td>0.0</td>\n",
       "      <td>0.0</td>\n",
       "      <td>0.0</td>\n",
       "      <td>0.0</td>\n",
       "      <td>0.0</td>\n",
       "      <td>0.0</td>\n",
       "      <td>0.0</td>\n",
       "      <td>[0. 0. 0. 1.]</td>\n",
       "    </tr>\n",
       "    <tr>\n",
       "      <th>...</th>\n",
       "      <td>...</td>\n",
       "      <td>...</td>\n",
       "      <td>...</td>\n",
       "      <td>...</td>\n",
       "      <td>...</td>\n",
       "      <td>...</td>\n",
       "      <td>...</td>\n",
       "      <td>...</td>\n",
       "      <td>...</td>\n",
       "      <td>...</td>\n",
       "      <td>...</td>\n",
       "      <td>...</td>\n",
       "      <td>...</td>\n",
       "      <td>...</td>\n",
       "      <td>...</td>\n",
       "      <td>...</td>\n",
       "      <td>...</td>\n",
       "      <td>...</td>\n",
       "      <td>...</td>\n",
       "      <td>...</td>\n",
       "      <td>...</td>\n",
       "    </tr>\n",
       "    <tr>\n",
       "      <th>7018</th>\n",
       "      <td>0.0</td>\n",
       "      <td>0.0</td>\n",
       "      <td>0.0</td>\n",
       "      <td>0.0</td>\n",
       "      <td>0.0</td>\n",
       "      <td>0.0</td>\n",
       "      <td>0.0</td>\n",
       "      <td>0.0</td>\n",
       "      <td>0.0</td>\n",
       "      <td>0.0</td>\n",
       "      <td>...</td>\n",
       "      <td>0.0</td>\n",
       "      <td>0.0</td>\n",
       "      <td>0.0</td>\n",
       "      <td>0.0</td>\n",
       "      <td>0.0</td>\n",
       "      <td>0.0</td>\n",
       "      <td>0.0</td>\n",
       "      <td>0.0</td>\n",
       "      <td>0.0</td>\n",
       "      <td>[1. 0. 0. 0.]</td>\n",
       "    </tr>\n",
       "    <tr>\n",
       "      <th>7019</th>\n",
       "      <td>0.0</td>\n",
       "      <td>0.0</td>\n",
       "      <td>0.0</td>\n",
       "      <td>0.0</td>\n",
       "      <td>0.0</td>\n",
       "      <td>0.0</td>\n",
       "      <td>0.0</td>\n",
       "      <td>0.0</td>\n",
       "      <td>0.0</td>\n",
       "      <td>0.0</td>\n",
       "      <td>...</td>\n",
       "      <td>0.0</td>\n",
       "      <td>0.0</td>\n",
       "      <td>0.0</td>\n",
       "      <td>0.0</td>\n",
       "      <td>0.0</td>\n",
       "      <td>0.0</td>\n",
       "      <td>0.0</td>\n",
       "      <td>0.0</td>\n",
       "      <td>0.0</td>\n",
       "      <td>[1. 0. 0. 0.]</td>\n",
       "    </tr>\n",
       "    <tr>\n",
       "      <th>7020</th>\n",
       "      <td>0.0</td>\n",
       "      <td>0.0</td>\n",
       "      <td>0.0</td>\n",
       "      <td>0.0</td>\n",
       "      <td>0.0</td>\n",
       "      <td>0.0</td>\n",
       "      <td>0.0</td>\n",
       "      <td>0.0</td>\n",
       "      <td>0.0</td>\n",
       "      <td>0.0</td>\n",
       "      <td>...</td>\n",
       "      <td>0.0</td>\n",
       "      <td>0.0</td>\n",
       "      <td>0.0</td>\n",
       "      <td>0.0</td>\n",
       "      <td>0.0</td>\n",
       "      <td>0.0</td>\n",
       "      <td>0.0</td>\n",
       "      <td>0.0</td>\n",
       "      <td>0.0</td>\n",
       "      <td>[1. 0. 0. 0.]</td>\n",
       "    </tr>\n",
       "    <tr>\n",
       "      <th>7021</th>\n",
       "      <td>0.0</td>\n",
       "      <td>0.0</td>\n",
       "      <td>0.0</td>\n",
       "      <td>0.0</td>\n",
       "      <td>0.0</td>\n",
       "      <td>0.0</td>\n",
       "      <td>0.0</td>\n",
       "      <td>0.0</td>\n",
       "      <td>0.0</td>\n",
       "      <td>0.0</td>\n",
       "      <td>...</td>\n",
       "      <td>0.0</td>\n",
       "      <td>0.0</td>\n",
       "      <td>0.0</td>\n",
       "      <td>0.0</td>\n",
       "      <td>0.0</td>\n",
       "      <td>0.0</td>\n",
       "      <td>0.0</td>\n",
       "      <td>0.0</td>\n",
       "      <td>0.0</td>\n",
       "      <td>[1. 0. 0. 0.]</td>\n",
       "    </tr>\n",
       "    <tr>\n",
       "      <th>7022</th>\n",
       "      <td>0.0</td>\n",
       "      <td>0.0</td>\n",
       "      <td>0.0</td>\n",
       "      <td>0.0</td>\n",
       "      <td>0.0</td>\n",
       "      <td>0.0</td>\n",
       "      <td>0.0</td>\n",
       "      <td>0.0</td>\n",
       "      <td>0.0</td>\n",
       "      <td>0.0</td>\n",
       "      <td>...</td>\n",
       "      <td>0.0</td>\n",
       "      <td>0.0</td>\n",
       "      <td>0.0</td>\n",
       "      <td>0.0</td>\n",
       "      <td>0.0</td>\n",
       "      <td>0.0</td>\n",
       "      <td>0.0</td>\n",
       "      <td>0.0</td>\n",
       "      <td>0.0</td>\n",
       "      <td>[1. 0. 0. 0.]</td>\n",
       "    </tr>\n",
       "  </tbody>\n",
       "</table>\n",
       "<p>7023 rows × 2049 columns</p>\n",
       "</div>"
      ],
      "text/plain": [
       "      0     1     2     3     4     5     6     7     8     9     ...  2039  \\\n",
       "0      0.0   0.0   0.0   0.0   0.0   0.0   0.0   0.0   0.0   0.0  ...   0.0   \n",
       "1      0.0   0.0   0.0   0.0   0.0   0.0   0.0   0.0   0.0   0.0  ...   0.0   \n",
       "2      0.0   0.0   0.0   0.0   0.0   0.0   0.0   0.0   0.0   0.0  ...   0.0   \n",
       "3      0.0   0.0   0.0   0.0   0.0   0.0   0.0   0.0   0.0   0.0  ...   0.0   \n",
       "4      0.0   0.0   0.0   0.0   0.0   0.0   0.0   0.0   0.0   0.0  ...   0.0   \n",
       "...    ...   ...   ...   ...   ...   ...   ...   ...   ...   ...  ...   ...   \n",
       "7018   0.0   0.0   0.0   0.0   0.0   0.0   0.0   0.0   0.0   0.0  ...   0.0   \n",
       "7019   0.0   0.0   0.0   0.0   0.0   0.0   0.0   0.0   0.0   0.0  ...   0.0   \n",
       "7020   0.0   0.0   0.0   0.0   0.0   0.0   0.0   0.0   0.0   0.0  ...   0.0   \n",
       "7021   0.0   0.0   0.0   0.0   0.0   0.0   0.0   0.0   0.0   0.0  ...   0.0   \n",
       "7022   0.0   0.0   0.0   0.0   0.0   0.0   0.0   0.0   0.0   0.0  ...   0.0   \n",
       "\n",
       "      2040  2041  2042  2043  2044  2045  2046  2047           2048  \n",
       "0      0.0   0.0   0.0   0.0   0.0   0.0   0.0   0.0  [0. 0. 0. 1.]  \n",
       "1      0.0   0.0   0.0   0.0   0.0   0.0   0.0   0.0  [0. 0. 0. 1.]  \n",
       "2      0.0   0.0   0.0   0.0   0.0   0.0   0.0   0.0  [0. 0. 0. 1.]  \n",
       "3      0.0   0.0   0.0   0.0   0.0   0.0   0.0   0.0  [0. 0. 0. 1.]  \n",
       "4      0.0   0.0   0.0   0.0   0.0   0.0   0.0   0.0  [0. 0. 0. 1.]  \n",
       "...    ...   ...   ...   ...   ...   ...   ...   ...            ...  \n",
       "7018   0.0   0.0   0.0   0.0   0.0   0.0   0.0   0.0  [1. 0. 0. 0.]  \n",
       "7019   0.0   0.0   0.0   0.0   0.0   0.0   0.0   0.0  [1. 0. 0. 0.]  \n",
       "7020   0.0   0.0   0.0   0.0   0.0   0.0   0.0   0.0  [1. 0. 0. 0.]  \n",
       "7021   0.0   0.0   0.0   0.0   0.0   0.0   0.0   0.0  [1. 0. 0. 0.]  \n",
       "7022   0.0   0.0   0.0   0.0   0.0   0.0   0.0   0.0  [1. 0. 0. 0.]  \n",
       "\n",
       "[7023 rows x 2049 columns]"
      ]
     },
     "execution_count": 30,
     "metadata": {},
     "output_type": "execute_result"
    }
   ],
   "source": [
    "import pandas as pd\n",
    "df=pd.read_csv(r\"feature.csv\",header=None)\n",
    "df"
   ]
  },
  {
   "cell_type": "code",
   "execution_count": 31,
   "id": "efc7a4d6",
   "metadata": {
    "execution": {
     "iopub.execute_input": "2023-02-05T06:03:14.831114Z",
     "iopub.status.busy": "2023-02-05T06:03:14.830771Z",
     "iopub.status.idle": "2023-02-05T06:03:14.870571Z",
     "shell.execute_reply": "2023-02-05T06:03:14.869420Z"
    },
    "papermill": {
     "duration": 0.838682,
     "end_time": "2023-02-05T06:03:14.873023",
     "exception": false,
     "start_time": "2023-02-05T06:03:14.034341",
     "status": "completed"
    },
    "tags": []
   },
   "outputs": [],
   "source": [
    "X=df.iloc[:,:-1]\n",
    "Y=df.iloc[:,-1]"
   ]
  },
  {
   "cell_type": "code",
   "execution_count": 32,
   "id": "b25d465b",
   "metadata": {
    "execution": {
     "iopub.execute_input": "2023-02-05T06:03:16.627396Z",
     "iopub.status.busy": "2023-02-05T06:03:16.627022Z",
     "iopub.status.idle": "2023-02-05T06:03:16.866849Z",
     "shell.execute_reply": "2023-02-05T06:03:16.865873Z"
    },
    "papermill": {
     "duration": 1.151266,
     "end_time": "2023-02-05T06:03:16.869282",
     "exception": false,
     "start_time": "2023-02-05T06:03:15.718016",
     "status": "completed"
    },
    "tags": []
   },
   "outputs": [],
   "source": [
    "from sklearn.model_selection import train_test_split\n",
    "x_train,x_test,y_train,y_test=train_test_split(X,Y,test_size=0.2,random_state=2)\n"
   ]
  },
  {
   "cell_type": "code",
   "execution_count": 33,
   "id": "ac37e963",
   "metadata": {
    "execution": {
     "iopub.execute_input": "2023-02-05T06:03:18.381645Z",
     "iopub.status.busy": "2023-02-05T06:03:18.381303Z",
     "iopub.status.idle": "2023-02-05T06:03:18.545608Z",
     "shell.execute_reply": "2023-02-05T06:03:18.544663Z"
    },
    "papermill": {
     "duration": 0.955631,
     "end_time": "2023-02-05T06:03:18.548017",
     "exception": false,
     "start_time": "2023-02-05T06:03:17.592386",
     "status": "completed"
    },
    "tags": []
   },
   "outputs": [],
   "source": [
    "from sklearn.ensemble import RandomForestClassifier"
   ]
  },
  {
   "cell_type": "code",
   "execution_count": 34,
   "id": "fd3de3b1",
   "metadata": {
    "execution": {
     "iopub.execute_input": "2023-02-05T06:03:20.100499Z",
     "iopub.status.busy": "2023-02-05T06:03:20.099806Z",
     "iopub.status.idle": "2023-02-05T06:07:43.135235Z",
     "shell.execute_reply": "2023-02-05T06:07:43.134201Z"
    },
    "papermill": {
     "duration": 264.619664,
     "end_time": "2023-02-05T06:07:43.927456",
     "exception": false,
     "start_time": "2023-02-05T06:03:19.307792",
     "status": "completed"
    },
    "tags": []
   },
   "outputs": [
    {
     "name": "stdout",
     "output_type": "stream",
     "text": [
      "Fitting 4 folds for each of 180 candidates, totalling 720 fits\n"
     ]
    },
    {
     "data": {
      "text/plain": [
       "GridSearchCV(cv=4, estimator=RandomForestClassifier(n_jobs=-1, random_state=42),\n",
       "             n_jobs=-1,\n",
       "             param_grid={'max_depth': [2, 3, 5, 10, 20],\n",
       "                         'min_samples_leaf': [5, 10, 20, 50, 100, 200],\n",
       "                         'n_estimators': [10, 25, 30, 50, 100, 200]},\n",
       "             scoring='accuracy', verbose=1)"
      ]
     },
     "execution_count": 34,
     "metadata": {},
     "output_type": "execute_result"
    }
   ],
   "source": [
    "rf = RandomForestClassifier(random_state=42, n_jobs=-1)\n",
    "params = {\n",
    "    'max_depth': [2,3,5,10,20],\n",
    "    'min_samples_leaf': [5,10,20,50,100,200],\n",
    "    'n_estimators': [10,25,30,50,100,200]\n",
    "}\n",
    "from sklearn.model_selection import GridSearchCV\n",
    "# Instantiate the grid search model\n",
    "grid_search = GridSearchCV(estimator=rf,\n",
    "                           param_grid=params,\n",
    "                           cv = 4,\n",
    "                           n_jobs=-1, verbose=1, scoring=\"accuracy\")\n",
    "grid_search.fit(x_train, y_train)"
   ]
  },
  {
   "cell_type": "code",
   "execution_count": 35,
   "id": "81be9160",
   "metadata": {
    "execution": {
     "iopub.execute_input": "2023-02-05T06:07:45.445421Z",
     "iopub.status.busy": "2023-02-05T06:07:45.445015Z",
     "iopub.status.idle": "2023-02-05T06:07:45.451731Z",
     "shell.execute_reply": "2023-02-05T06:07:45.450790Z"
    },
    "papermill": {
     "duration": 0.799737,
     "end_time": "2023-02-05T06:07:45.453796",
     "exception": false,
     "start_time": "2023-02-05T06:07:44.654059",
     "status": "completed"
    },
    "tags": []
   },
   "outputs": [
    {
     "data": {
      "text/plain": [
       "0.9918117782441626"
      ]
     },
     "execution_count": 35,
     "metadata": {},
     "output_type": "execute_result"
    }
   ],
   "source": [
    "grid_search.best_score_"
   ]
  },
  {
   "cell_type": "code",
   "execution_count": 36,
   "id": "b64522bc",
   "metadata": {
    "execution": {
     "iopub.execute_input": "2023-02-05T06:07:46.925159Z",
     "iopub.status.busy": "2023-02-05T06:07:46.924631Z",
     "iopub.status.idle": "2023-02-05T06:07:46.931547Z",
     "shell.execute_reply": "2023-02-05T06:07:46.930622Z"
    },
    "papermill": {
     "duration": 0.747717,
     "end_time": "2023-02-05T06:07:46.933507",
     "exception": false,
     "start_time": "2023-02-05T06:07:46.185790",
     "status": "completed"
    },
    "tags": []
   },
   "outputs": [
    {
     "data": {
      "text/plain": [
       "RandomForestClassifier(max_depth=20, min_samples_leaf=5, n_estimators=30,\n",
       "                       n_jobs=-1, random_state=42)"
      ]
     },
     "execution_count": 36,
     "metadata": {},
     "output_type": "execute_result"
    }
   ],
   "source": [
    "rf_best = grid_search.best_estimator_\n",
    "rf_best"
   ]
  },
  {
   "cell_type": "code",
   "execution_count": 37,
   "id": "4a874cb1",
   "metadata": {
    "execution": {
     "iopub.execute_input": "2023-02-05T06:07:48.513985Z",
     "iopub.status.busy": "2023-02-05T06:07:48.513638Z",
     "iopub.status.idle": "2023-02-05T06:07:48.774026Z",
     "shell.execute_reply": "2023-02-05T06:07:48.773114Z"
    },
    "papermill": {
     "duration": 1.054612,
     "end_time": "2023-02-05T06:07:48.776143",
     "exception": false,
     "start_time": "2023-02-05T06:07:47.721531",
     "status": "completed"
    },
    "tags": []
   },
   "outputs": [
    {
     "data": {
      "text/plain": [
       "RandomForestClassifier(max_depth=20, min_samples_leaf=5, n_estimators=30,\n",
       "                       n_jobs=-1, random_state=42)"
      ]
     },
     "execution_count": 37,
     "metadata": {},
     "output_type": "execute_result"
    }
   ],
   "source": [
    "rf_best.fit(x_train,y_train)"
   ]
  },
  {
   "cell_type": "code",
   "execution_count": 38,
   "id": "9af69a01",
   "metadata": {
    "execution": {
     "iopub.execute_input": "2023-02-05T06:07:50.247340Z",
     "iopub.status.busy": "2023-02-05T06:07:50.246868Z",
     "iopub.status.idle": "2023-02-05T06:07:50.419389Z",
     "shell.execute_reply": "2023-02-05T06:07:50.417211Z"
    },
    "papermill": {
     "duration": 0.90326,
     "end_time": "2023-02-05T06:07:50.422177",
     "exception": false,
     "start_time": "2023-02-05T06:07:49.518917",
     "status": "completed"
    },
    "scrolled": true,
    "tags": []
   },
   "outputs": [
    {
     "name": "stdout",
     "output_type": "stream",
     "text": [
      "               precision    recall  f1-score   support\n",
      "\n",
      "[0. 0. 0. 1.]       0.99      1.00      1.00       342\n",
      "[0. 0. 1. 0.]       1.00      0.99      0.99       414\n",
      "[0. 1. 0. 0.]       0.99      0.99      0.99       339\n",
      "[1. 0. 0. 0.]       1.00      0.99      0.99       310\n",
      "\n",
      "     accuracy                           0.99      1405\n",
      "    macro avg       0.99      0.99      0.99      1405\n",
      " weighted avg       0.99      0.99      0.99      1405\n",
      "\n"
     ]
    }
   ],
   "source": [
    "from sklearn.metrics import classification_report\n",
    "y_pred=rf_best.predict(x_test)\n",
    "print(classification_report(y_pred,y_test))"
   ]
  },
  {
   "cell_type": "code",
   "execution_count": 2,
   "id": "0007314f",
   "metadata": {
    "execution": {
     "iopub.execute_input": "2023-02-05T06:07:52.122667Z",
     "iopub.status.busy": "2023-02-05T06:07:52.122310Z",
     "iopub.status.idle": "2023-02-05T06:07:53.507551Z",
     "shell.execute_reply": "2023-02-05T06:07:53.506551Z"
    },
    "papermill": {
     "duration": 2.114773,
     "end_time": "2023-02-05T06:07:53.510283",
     "exception": false,
     "start_time": "2023-02-05T06:07:51.395510",
     "status": "completed"
    },
    "tags": []
   },
   "outputs": [],
   "source": [
    "from keras.models import load_model\n",
    "model.save(\"densnet121.h5\")  "
   ]
  },
  {
   "cell_type": "code",
   "execution_count": 6,
   "id": "81cc5171",
   "metadata": {
    "papermill": {
     "duration": 0.731395,
     "end_time": "2023-02-05T06:07:55.033452",
     "exception": false,
     "start_time": "2023-02-05T06:07:54.302057",
     "status": "completed"
    },
    "tags": []
   },
   "outputs": [],
   "source": [
    "from IPython.display import display,clear_output\n",
    "import io\n",
    "import pickle\n",
    "# Load the model from the file\n",
    "with open('model_gpu.pkl', 'rb') as file:\n",
    "    model_r = pickle.load(file)\n",
    "import tensorflow as tf\n",
    "# Load the model to extract features\n",
    "model = tf.keras.models.load_model('densenet121_gpu.h5')"
   ]
  },
  {
   "cell_type": "code",
   "execution_count": 2,
   "id": "4a7fc3e9",
   "metadata": {},
   "outputs": [],
   "source": [
    "def img_pred(uploader):\n",
    "        tu={\n",
    "            \"0\":\"GLIOMA\",\n",
    "            \"1\":\"MENINGIOMA\",\n",
    "            \"2\":\"NO TUMOUR\",\n",
    "            \"3\":\"PITUTARY\"\n",
    "        }\n",
    "        if uploader:\n",
    "            img = Image.open(io.BytesIO(uploader['content']))\n",
    "        else:\n",
    "            print(\"No files have been uploaded\")\n",
    "#         image = cv2.cvtColor(np.array(img), cv2.COLOR_RGB2BGR)\n",
    "        img = cv2.cvtColor(np.array(img), cv2.COLOR_BGR2GRAY)\n",
    "        # print(image)\n",
    "        img=cv2.resize(img,(224,224),interpolation=cv2.INTER_LANCZOS4)\n",
    "        # print(img)\n",
    "        # print(img.shape)\n",
    "        img=img.astype('float32')\n",
    "        img/=255.0\n",
    "        img=np.expand_dims(img,axis=0)\n",
    "        feature_extractor = keras.Model(inputs=model.inputs,outputs=model.get_layer(name=\"final\").output,)\n",
    "        features =list(feature_extractor(img))\n",
    "        l=[]\n",
    "        for i in list(features):\n",
    "            for j in list(i): \n",
    "                l.append(np.float32(j))\n",
    "        final_features=list(np.array(l).reshape(1,-1))        \n",
    "        prediction=model_r.predict(final_features)\n",
    "        prediction=list(prediction)[0].strip('[]').split().index('1.')\n",
    "        output=tu[str(prediction)]\n",
    "        print(output)"
   ]
  },
  {
   "cell_type": "code",
   "execution_count": 3,
   "id": "bf7ad5fd",
   "metadata": {},
   "outputs": [],
   "source": [
    "from IPython.display import display,clear_output\n",
    "import io\n",
    "from PIL import Image\n",
    "import cv2\n",
    "import numpy as np\n",
    "import keras"
   ]
  },
  {
   "cell_type": "code",
   "execution_count": 7,
   "id": "5fac3005",
   "metadata": {},
   "outputs": [
    {
     "data": {
      "application/vnd.jupyter.widget-view+json": {
       "model_id": "6346fda536034aa9a56e7b65590b7e2e",
       "version_major": 2,
       "version_minor": 0
      },
      "text/plain": [
       "FileUpload(value={}, description='Upload')"
      ]
     },
     "metadata": {},
     "output_type": "display_data"
    },
    {
     "data": {
      "application/vnd.jupyter.widget-view+json": {
       "model_id": "bcb6ca263e484ccfaace2cdf8ec04247",
       "version_major": 2,
       "version_minor": 0
      },
      "text/plain": [
       "VBox(children=(Button(description='Predict', style=ButtonStyle()), Output()))"
      ]
     },
     "metadata": {},
     "output_type": "display_data"
    }
   ],
   "source": [
    "import ipywidgets as widgets\n",
    "uploader = widgets.FileUpload()\n",
    "display(uploader)\n",
    "button = widgets.Button(description='Predict')\n",
    "out = widgets.Output()\n",
    "def on_button_clicked(_):\n",
    "    with out:\n",
    "        clear_output()\n",
    "        for i in uploader.value:\n",
    "            d=i\n",
    "        img_pred(d)\n",
    "button.on_click(on_button_clicked)\n",
    "widgets.VBox([button,out])"
   ]
  },
  {
   "cell_type": "code",
   "execution_count": null,
   "id": "66bec6d4",
   "metadata": {},
   "outputs": [],
   "source": []
  }
 ],
 "metadata": {
  "kernelspec": {
   "display_name": "Python 3 (ipykernel)",
   "language": "python",
   "name": "python3"
  },
  "language_info": {
   "codemirror_mode": {
    "name": "ipython",
    "version": 3
   },
   "file_extension": ".py",
   "mimetype": "text/x-python",
   "name": "python",
   "nbconvert_exporter": "python",
   "pygments_lexer": "ipython3",
   "version": "3.9.13"
  },
  "papermill": {
   "default_parameters": {},
   "duration": 6321.397065,
   "end_time": "2023-02-05T06:07:58.765693",
   "environment_variables": {},
   "exception": null,
   "input_path": "__notebook__.ipynb",
   "output_path": "__notebook__.ipynb",
   "parameters": {},
   "start_time": "2023-02-05T04:22:37.368628",
   "version": "2.3.4"
  }
 },
 "nbformat": 4,
 "nbformat_minor": 5
}
