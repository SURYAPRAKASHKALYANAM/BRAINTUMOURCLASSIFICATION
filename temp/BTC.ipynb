{
 "cells": [
  {
   "cell_type": "code",
   "execution_count": 74,
   "id": "04c63d5b",
   "metadata": {},
   "outputs": [],
   "source": [
    "import matplotlib.pyplot as plt\n",
    "import numpy as np\n",
    "import pandas as pd\n",
    "import seaborn as sns\n",
    "import cv2 as cv\n",
    "import tensorflow as tf\n",
    "from tensorflow.keras.preprocessing.image import ImageDataGenerator\n",
    "from tqdm import tqdm\n",
    "import os\n",
    "from sklearn.utils import shuffle\n",
    "from sklearn.model_selection import train_test_split\n",
    "from tensorflow.keras.applications import EfficientNetB0\n",
    "from tensorflow.keras.callbacks import EarlyStopping, ReduceLROnPlateau, TensorBoard, ModelCheckpoint\n",
    "from sklearn.metrics import classification_report,confusion_matrix\n",
    "import ipywidgets as widgets\n",
    "import io\n",
    "from PIL import Image\n",
    "from IPython.display import display,clear_output\n",
    "from warnings import filterwarnings"
   ]
  },
  {
   "cell_type": "code",
   "execution_count": 75,
   "id": "71e1b8dc",
   "metadata": {},
   "outputs": [
    {
     "data": {
      "image/png": "[encoded data removed]",
      "text/plain": [
       "<Figure size 360x72 with 1 Axes>"
      ]
     },
     "metadata": {
      "needs_background": "light"
     },
     "output_type": "display_data"
    },
    {
     "data": {
      "image/png": "[encoded data removed]",
      "text/plain": [
       "<Figure size 360x72 with 1 Axes>"
      ]
     },
     "metadata": {
      "needs_background": "light"
     },
     "output_type": "display_data"
    },
    {
     "data": {
      "image/png": "[encoded data removed]",
      "text/plain": [
       "<Figure size 360x72 with 1 Axes>"
      ]
     },
     "metadata": {
      "needs_background": "light"
     },
     "output_type": "display_data"
    }
   ],
   "source": [
    "colors_dark = [\"#1F1F1F\", \"#313131\", '#636363', '#AEAEAE', '#DADADA']\n",
    "colors_red = [\"#331313\", \"#582626\", '#9E1717', '#D35151', '#E9B4B4']\n",
    "colors_green = ['#01411C','#4B6F44','#4F7942','#74C365','#D0F0C0']\n",
    "\n",
    "sns.palplot(colors_dark)\n",
    "sns.palplot(colors_green)\n",
    "sns.palplot(colors_red)"
   ]
  },
  {
   "cell_type": "code",
   "execution_count": 76,
   "id": "43b80890",
   "metadata": {},
   "outputs": [],
   "source": [
    "import os"
   ]
  },
  {
   "cell_type": "code",
   "execution_count": 77,
   "id": "3fe86bfa",
   "metadata": {},
   "outputs": [],
   "source": [
    "def create_dataset(img_folder):\n",
    "    img_data_array=[]\n",
    "    class_name=[]\n",
    "    for dir1 in os.listdir(img_folder):\n",
    "         #print(dir1)\n",
    "        for file in os.listdir(os.path.join(img_folder,dir1)):\n",
    "            img=cv.imread(os.path.join(img_folder,dir1,file),cv.COLOR_BGR2RGB)\n",
    "            img=cv.resize(img,(150,150),interpolation=cv.INTER_AREA)\n",
    "            img=img.astype('float32')\n",
    "            img/=255\n",
    "            img_data_array.append(img)\n",
    "            class_name.append(dir1)\n",
    "    return img_data_array,class_name\n",
    "img_data,class_name=create_dataset(r\"D:\\PROJECTS\\MINI\\BRAIN TUMOUR DATASETS\\dataset1\\Training\")\n",
    "            "
   ]
  },
  {
   "cell_type": "code",
   "execution_count": 78,
   "id": "802575e1",
   "metadata": {},
   "outputs": [
    {
     "data": {
      "text/plain": [
       "2870"
      ]
     },
     "execution_count": 78,
     "metadata": {},
     "output_type": "execute_result"
    }
   ],
   "source": [
    "len(img_data)"
   ]
  },
  {
   "cell_type": "code",
   "execution_count": 79,
   "id": "f0ba73ad",
   "metadata": {},
   "outputs": [
    {
     "data": {
      "text/plain": [
       "2870"
      ]
     },
     "execution_count": 79,
     "metadata": {},
     "output_type": "execute_result"
    }
   ],
   "source": [
    "len(class_name)"
   ]
  },
  {
   "cell_type": "code",
   "execution_count": 80,
   "id": "26559b1c",
   "metadata": {},
   "outputs": [],
   "source": [
    "def create_dataset(img_folder):\n",
    "    img_data_array=[]\n",
    "    class_name=[]\n",
    "    for dir1 in os.listdir(img_folder):\n",
    "         #print(dir1)\n",
    "        for file in os.listdir(os.path.join(img_folder,dir1)):\n",
    "            img=cv.imread(os.path.join(img_folder,dir1,file),cv.COLOR_BGR2RGB)\n",
    "            img=cv.resize(img,(150,150),interpolation=cv.INTER_AREA)\n",
    "            img=img.astype('float32')\n",
    "            img/=255\n",
    "            img_data_array.append(img)\n",
    "            class_name.append(dir1)\n",
    "    return img_data_array,class_name\n",
    "img_data1,class_name1=create_dataset(r\"D:\\PROJECTS\\MINI\\BRAIN TUMOUR DATASETS\\dataset1\\Testing\")\n",
    "            "
   ]
  },
  {
   "cell_type": "code",
   "execution_count": 81,
   "id": "d500e596",
   "metadata": {},
   "outputs": [
    {
     "data": {
      "text/plain": [
       "394"
      ]
     },
     "execution_count": 81,
     "metadata": {},
     "output_type": "execute_result"
    }
   ],
   "source": [
    "len(class_name1)"
   ]
  },
  {
   "cell_type": "code",
   "execution_count": 82,
   "id": "a629059b",
   "metadata": {},
   "outputs": [
    {
     "data": {
      "text/plain": [
       "{'glioma': 0, 'meningioma': 1, 'notumor': 2, 'pituitary': 3}"
      ]
     },
     "execution_count": 82,
     "metadata": {},
     "output_type": "execute_result"
    }
   ],
   "source": [
    "import numpy as np\n",
    "target_dict={k:v for v,k in enumerate(np.unique(class_name))}\n",
    "target_dict"
   ]
  },
  {
   "cell_type": "code",
   "execution_count": 83,
   "id": "e544e0f4",
   "metadata": {},
   "outputs": [],
   "source": [
    "target_val=[target_dict[class_name[i]] for i in range(len(class_name))]"
   ]
  },
  {
   "cell_type": "code",
   "execution_count": 84,
   "id": "c59a4da9",
   "metadata": {},
   "outputs": [],
   "source": [
    "target_val1=[target_dict[class_name1[i]] for i in range(len(class_name1))]"
   ]
  },
  {
   "cell_type": "code",
   "execution_count": 85,
   "id": "102d2366",
   "metadata": {},
   "outputs": [],
   "source": [
    "X_train=np.array(img_data, np.uint32)"
   ]
  },
  {
   "cell_type": "code",
   "execution_count": 86,
   "id": "cd90846e",
   "metadata": {},
   "outputs": [],
   "source": [
    "Y_train=np.array(list(map(int,target_val)), np.uint32)"
   ]
  },
  {
   "cell_type": "code",
   "execution_count": 87,
   "id": "f5c8a025",
   "metadata": {},
   "outputs": [],
   "source": [
    "X_test=np.array(img_data1, np.uint32)"
   ]
  },
  {
   "cell_type": "code",
   "execution_count": 88,
   "id": "4d155e3c",
   "metadata": {},
   "outputs": [],
   "source": [
    "Y_test=np.array(list(map(int,target_val1)), np.uint32)"
   ]
  },
  {
   "cell_type": "code",
   "execution_count": 89,
   "id": "af583b5e",
   "metadata": {},
   "outputs": [
    {
     "data": {
      "text/plain": [
       "(2870,)"
      ]
     },
     "execution_count": 89,
     "metadata": {},
     "output_type": "execute_result"
    }
   ],
   "source": [
    "Y_train.shape"
   ]
  },
  {
   "cell_type": "code",
   "execution_count": 90,
   "id": "a79ed575",
   "metadata": {},
   "outputs": [
    {
     "data": {
      "text/plain": [
       "(2870, 150, 150, 3)"
      ]
     },
     "execution_count": 90,
     "metadata": {},
     "output_type": "execute_result"
    }
   ],
   "source": [
    "X_train.shape"
   ]
  },
  {
   "cell_type": "code",
   "execution_count": 91,
   "id": "8c887505",
   "metadata": {},
   "outputs": [],
   "source": [
    "from tensorflow import keras\n",
    "from tensorflow.keras.layers import Dense,Input,InputLayer,Flatten,Conv2D,MaxPooling2D,Dropout,BatchNormalization\n",
    "from tensorflow.keras.models import Model,Sequential"
   ]
  },
  {
   "cell_type": "code",
   "execution_count": 92,
   "id": "0e50e130",
   "metadata": {},
   "outputs": [],
   "source": [
    "opt=tf.keras.optimizers.Adam(learning_rate=0.0001)"
   ]
  },
  {
   "cell_type": "code",
   "execution_count": 93,
   "id": "ef11f9ba",
   "metadata": {},
   "outputs": [],
   "source": [
    "es=tf.keras.callbacks.EarlyStopping(\n",
    "    monitor=\"val_loss\",\n",
    "    min_delta=0.001,\n",
    "    patience=10,\n",
    "    verbose=1,\n",
    "    mode=\"auto\",\n",
    "    baseline=None,\n",
    "    restore_best_weights=False,\n",
    ")"
   ]
  },
  {
   "cell_type": "code",
   "execution_count": 94,
   "id": "a53146bc",
   "metadata": {},
   "outputs": [],
   "source": [
    "model = Sequential()\n",
    "model.add(Conv2D(32, kernel_size=(3, 3), activation='relu', padding='same', input_shape=(150,150,3)))\n",
    "model.add(BatchNormalization())\n",
    "model.add(Conv2D(32, kernel_size=(3, 3), activation='relu', padding='same'))\n",
    "model.add(BatchNormalization())\n",
    "model.add(MaxPooling2D(pool_size=(2, 2)))\n",
    "\n",
    "model.add(Conv2D(64, kernel_size=(3, 3), activation='relu', padding='same'))\n",
    "model.add(BatchNormalization())\n",
    "model.add(Conv2D(64, kernel_size=(3, 3), activation='relu', padding='same'))\n",
    "model.add(BatchNormalization())\n",
    "model.add(MaxPooling2D(pool_size=(2, 2)))\n",
    "\n",
    "model.add(Conv2D(128, kernel_size=(3, 3), activation='relu', padding='same'))\n",
    "model.add(BatchNormalization())\n",
    "model.add(Conv2D(128, kernel_size=(3, 3), activation='relu', padding='same'))\n",
    "model.add(BatchNormalization())\n",
    "model.add(MaxPooling2D(pool_size=(2, 2)))\n",
    "\n",
    "model.add(Flatten())\n",
    "model.add(Dense(512, activation='relu'))\n",
    "model.add(Dense(64, activation='relu'))  \n",
    "model.add(Dense(7, activation='softmax'))\n",
    "          \n",
    "model.compile(loss='sparse_categorical_crossentropy', optimizer=opt, metrics=['accuracy'])"
   ]
  },
  {
   "cell_type": "code",
   "execution_count": 95,
   "id": "3750e744",
   "metadata": {},
   "outputs": [
    {
     "name": "stdout",
     "output_type": "stream",
     "text": [
      "Model: \"sequential_2\"\n",
      "_________________________________________________________________\n",
      " Layer (type)                Output Shape              Param #   \n",
      "=================================================================\n",
      " conv2d_12 (Conv2D)          (None, 150, 150, 32)      896       \n",
      "                                                                 \n",
      " batch_normalization_12 (Bat  (None, 150, 150, 32)     128       \n",
      " chNormalization)                                                \n",
      "                                                                 \n",
      " conv2d_13 (Conv2D)          (None, 150, 150, 32)      9248      \n",
      "                                                                 \n",
      " batch_normalization_13 (Bat  (None, 150, 150, 32)     128       \n",
      " chNormalization)                                                \n",
      "                                                                 \n",
      " max_pooling2d_6 (MaxPooling  (None, 75, 75, 32)       0         \n",
      " 2D)                                                             \n",
      "                                                                 \n",
      " conv2d_14 (Conv2D)          (None, 75, 75, 64)        18496     \n",
      "                                                                 \n",
      " batch_normalization_14 (Bat  (None, 75, 75, 64)       256       \n",
      " chNormalization)                                                \n",
      "                                                                 \n",
      " conv2d_15 (Conv2D)          (None, 75, 75, 64)        36928     \n",
      "                                                                 \n",
      " batch_normalization_15 (Bat  (None, 75, 75, 64)       256       \n",
      " chNormalization)                                                \n",
      "                                                                 \n",
      " max_pooling2d_7 (MaxPooling  (None, 37, 37, 64)       0         \n",
      " 2D)                                                             \n",
      "                                                                 \n",
      " conv2d_16 (Conv2D)          (None, 37, 37, 128)       73856     \n",
      "                                                                 \n",
      " batch_normalization_16 (Bat  (None, 37, 37, 128)      512       \n",
      " chNormalization)                                                \n",
      "                                                                 \n",
      " conv2d_17 (Conv2D)          (None, 37, 37, 128)       147584    \n",
      "                                                                 \n",
      " batch_normalization_17 (Bat  (None, 37, 37, 128)      512       \n",
      " chNormalization)                                                \n",
      "                                                                 \n",
      " max_pooling2d_8 (MaxPooling  (None, 18, 18, 128)      0         \n",
      " 2D)                                                             \n",
      "                                                                 \n",
      " flatten_2 (Flatten)         (None, 41472)             0         \n",
      "                                                                 \n",
      " dense_8 (Dense)             (None, 512)               21234176  \n",
      "                                                                 \n",
      " dense_9 (Dense)             (None, 64)                32832     \n",
      "                                                                 \n",
      " dense_10 (Dense)            (None, 7)                 455       \n",
      "                                                                 \n",
      "=================================================================\n",
      "Total params: 21,556,263\n",
      "Trainable params: 21,555,367\n",
      "Non-trainable params: 896\n",
      "_________________________________________________________________\n"
     ]
    }
   ],
   "source": [
    "model.summary()"
   ]
  },
  {
   "cell_type": "code",
   "execution_count": 96,
   "id": "725502b3",
   "metadata": {},
   "outputs": [],
   "source": [
    "# model.fit(x=np.array(tf.expand_dims(img_data,axis=-1), np.float32), y=np.array(list(map(int,target_val)), np.float32),batch_size=120,epochs=80,validation_data=(np.array(tf.expand_dims(img_data1,axis=-1), np.float32),np.array(list(map(int,target_val1)), np.float32)),callbacks=es)"
   ]
  },
  {
   "cell_type": "code",
   "execution_count": null,
   "id": "e8f48d26",
   "metadata": {},
   "outputs": [
    {
     "name": "stdout",
     "output_type": "stream",
     "text": [
      "Epoch 1/20\n",
      "29/29 [==============================] - 199s 7s/step - loss: 1.8436 - accuracy: 0.2927 - val_loss: 1.7836 - val_accuracy: 0.2538\n",
      "Epoch 2/20\n",
      "29/29 [==============================] - 204s 7s/step - loss: 1.4147 - accuracy: 0.3366 - val_loss: 1.6958 - val_accuracy: 0.2538\n",
      "Epoch 3/20\n",
      "29/29 [==============================] - 238s 8s/step - loss: 1.2956 - accuracy: 0.3390 - val_loss: 1.6338 - val_accuracy: 0.2563\n",
      "Epoch 4/20\n",
      "29/29 [==============================] - 239s 8s/step - loss: 1.2881 - accuracy: 0.3355 - val_loss: 1.5848 - val_accuracy: 0.2360\n",
      "Epoch 5/20\n",
      "29/29 [==============================] - 235s 8s/step - loss: 1.2544 - accuracy: 0.3470 - val_loss: 1.5728 - val_accuracy: 0.2360\n",
      "Epoch 6/20\n",
      "29/29 [==============================] - 326s 11s/step - loss: 1.2836 - accuracy: 0.3470 - val_loss: 1.5630 - val_accuracy: 0.2284\n",
      "Epoch 7/20\n",
      "29/29 [==============================] - 201s 7s/step - loss: 1.2691 - accuracy: 0.3498 - val_loss: 1.4763 - val_accuracy: 0.2944\n",
      "Epoch 8/20\n",
      "20/29 [===================>..........] - ETA: 1:00 - loss: 1.2693 - accuracy: 0.3375"
     ]
    }
   ],
   "source": [
    "history=model.fit(X_train,Y_train,batch_size=100,epochs=20,validation_data=(X_test,Y_test),callbacks=es)"
   ]
  },
  {
   "cell_type": "code",
   "execution_count": 94,
   "id": "a9208685",
   "metadata": {},
   "outputs": [],
   "source": [
    "path1=r\"D:\\PROJECTS\\MINI\\BRAIN TUMOUR DATASETS\\MINIDEPLOY\\densnet121.h5\"\n",
    "import tensorflow as tf\n",
    "# i\n",
    "# Load the model from the file\n",
    "model = tf.keras.models.load_model(path1)\n",
    "\n",
    "# Use the model for predictions\n",
    "# y_pred = model.predict(X_test)\n"
   ]
  },
  {
   "cell_type": "code",
   "execution_count": 95,
   "id": "d768def3",
   "metadata": {},
   "outputs": [],
   "source": [
    "import keras\n",
    "feature_extractor = keras.Model(inputs=model.inputs,outputs=model.get_layer(name=\"final\").output,)"
   ]
  },
  {
   "cell_type": "code",
   "execution_count": 130,
   "id": "4b95beec",
   "metadata": {},
   "outputs": [],
   "source": [
    "import cv2 as cv\n",
    "import numpy as np\n",
    "img=cv.imread(r\"D:\\PROJECTS\\MINI\\BRAIN TUMOUR DATASETS\\dataset2\\Testing\\glioma\\Te-gl_0173.jpg\",cv.IMREAD_GRAYSCALE)\n",
    "img=cv.resize(img,(224,224),interpolation=cv.INTER_LANCZOS4)\n",
    "img=img.astype('float32')\n",
    "img/=255\n",
    "img=np.expand_dims(img,axis=0)\n",
    "features =list(feature_extractor(img))"
   ]
  },
  {
   "cell_type": "code",
   "execution_count": 131,
   "id": "ccf94d86",
   "metadata": {},
   "outputs": [
    {
     "data": {
      "text/plain": [
       "[<tf.Tensor: shape=(2048,), dtype=float32, numpy=array([0., 0., 0., ..., 0., 0., 0.], dtype=float32)>]"
      ]
     },
     "execution_count": 131,
     "metadata": {},
     "output_type": "execute_result"
    }
   ],
   "source": [
    "list(features)"
   ]
  },
  {
   "cell_type": "code",
   "execution_count": 136,
   "id": "96413c0d",
   "metadata": {},
   "outputs": [],
   "source": [
    "l=[]\n",
    "for i in list(features):\n",
    "    for j in list(i): \n",
    "        l.append(np.float32(j))"
   ]
  },
  {
   "cell_type": "code",
   "execution_count": 137,
   "id": "ac3c9f9e",
   "metadata": {},
   "outputs": [
    {
     "data": {
      "text/plain": [
       "2048"
      ]
     },
     "execution_count": 137,
     "metadata": {},
     "output_type": "execute_result"
    }
   ],
   "source": [
    "len(l)"
   ]
  },
  {
   "cell_type": "code",
   "execution_count": null,
   "id": "4eb27109",
   "metadata": {},
   "outputs": [],
   "source": []
  },
  {
   "cell_type": "code",
   "execution_count": 138,
   "id": "a116a2d2",
   "metadata": {},
   "outputs": [],
   "source": [
    "final_features=list(np.array(l).reshape(1,-1))"
   ]
  },
  {
   "cell_type": "code",
   "execution_count": 139,
   "id": "67e1e80c",
   "metadata": {},
   "outputs": [
    {
     "data": {
      "text/plain": [
       "[array([0., 0., 0., ..., 0., 0., 0.], dtype=float32)]"
      ]
     },
     "execution_count": 139,
     "metadata": {},
     "output_type": "execute_result"
    }
   ],
   "source": [
    "final_features"
   ]
  },
  {
   "cell_type": "code",
   "execution_count": 140,
   "id": "7ed622dc",
   "metadata": {},
   "outputs": [],
   "source": [
    "import pickle\n",
    "\n",
    "# Load the model from the file\n",
    "with open(\"D:\\PROJECTS\\MINI\\BRAIN TUMOUR DATASETS\\MINIDEPLOY\\model.pkl\", 'rb') as file:\n",
    "    model_r= pickle.load(file)\n",
    "\n",
    "# Use the model for predictions\n",
    "# y_pred = model.predict(X_test)\n"
   ]
  },
  {
   "cell_type": "code",
   "execution_count": 156,
   "id": "e51a4925",
   "metadata": {},
   "outputs": [],
   "source": [
    "prediction=model_r.predict(final_features)"
   ]
  },
  {
   "cell_type": "code",
   "execution_count": 157,
   "id": "b2d9ace7",
   "metadata": {},
   "outputs": [
    {
     "data": {
      "text/plain": [
       "array(['[1. 0. 0. 0.]'], dtype=object)"
      ]
     },
     "execution_count": 157,
     "metadata": {},
     "output_type": "execute_result"
    }
   ],
   "source": [
    "prediction"
   ]
  },
  {
   "cell_type": "code",
   "execution_count": 158,
   "id": "0c0c47b2",
   "metadata": {},
   "outputs": [],
   "source": [
    "prediction=list(prediction)[0].strip('[]').split().index('1.')"
   ]
  },
  {
   "cell_type": "code",
   "execution_count": 159,
   "id": "b8462234",
   "metadata": {},
   "outputs": [
    {
     "data": {
      "text/plain": [
       "0"
      ]
     },
     "execution_count": 159,
     "metadata": {},
     "output_type": "execute_result"
    }
   ],
   "source": [
    "prediction"
   ]
  },
  {
   "cell_type": "code",
   "execution_count": 152,
   "id": "bcbd0e3b",
   "metadata": {},
   "outputs": [],
   "source": [
    "# prediction.index('1.')"
   ]
  },
  {
   "cell_type": "code",
   "execution_count": 153,
   "id": "acc7a524",
   "metadata": {},
   "outputs": [],
   "source": [
    "import os"
   ]
  },
  {
   "cell_type": "code",
   "execution_count": 154,
   "id": "6dbe4cfd",
   "metadata": {},
   "outputs": [],
   "source": [
    "p=os.getcwd()"
   ]
  },
  {
   "cell_type": "code",
   "execution_count": 155,
   "id": "30d4460d",
   "metadata": {},
   "outputs": [
    {
     "data": {
      "text/plain": [
       "'C:\\\\Users\\\\surya\\\\MINI'"
      ]
     },
     "execution_count": 155,
     "metadata": {},
     "output_type": "execute_result"
    }
   ],
   "source": [
    "p"
   ]
  },
  {
   "cell_type": "code",
   "execution_count": 160,
   "id": "e4993aa8",
   "metadata": {},
   "outputs": [],
   "source": [
    "tu={\n",
    "            \"0\":\"glioma\",\n",
    "            \"1\":\"menengioma\",\n",
    "            \"2\":\"notumour\",\n",
    "            \"3\":\"pitutary\"\n",
    "        }"
   ]
  },
  {
   "cell_type": "code",
   "execution_count": 163,
   "id": "2184e952",
   "metadata": {},
   "outputs": [
    {
     "data": {
      "text/plain": [
       "'pitutary'"
      ]
     },
     "execution_count": 163,
     "metadata": {},
     "output_type": "execute_result"
    }
   ],
   "source": [
    "tu[\"3\"]"
   ]
  },
  {
   "cell_type": "code",
   "execution_count": null,
   "id": "0b1bc0fb",
   "metadata": {},
   "outputs": [],
   "source": []
  }
 ],
 "metadata": {
  "kernelspec": {
   "display_name": "Python 3 (ipykernel)",
   "language": "python",
   "name": "python3"
  },
  "language_info": {
   "codemirror_mode": {
    "name": "ipython",
    "version": 3
   },
   "file_extension": ".py",
   "mimetype": "text/x-python",
   "name": "python",
   "nbconvert_exporter": "python",
   "pygments_lexer": "ipython3",
   "version": "3.10.9"
  }
 },
 "nbformat": 4,
 "nbformat_minor": 5
}
